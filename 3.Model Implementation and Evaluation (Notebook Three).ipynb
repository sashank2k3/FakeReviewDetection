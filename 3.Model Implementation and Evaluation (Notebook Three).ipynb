{
 "cells": [
  {
   "cell_type": "markdown",
   "metadata": {},
   "source": [
    "# MODEL IMPLEMENTATION AND EVALUATION\n",
    "\n",
    "This is the stage where the three models are built, optimized and evaluated.\n",
    "\n",
    "Models used: `` Multinominal Naive Bayes`` , ``Support Vector Machine``, ``Logistic Regression``\n",
    "\n",
    "Evaluation methods used: ``accuracy, precision, recall, f1_score`` and ``confusion matrix``\n",
    "\n",
    "## Summary\n",
    "\n",
    "After appropriate evaluation, LR with count vectorizer has been deemed the best. The rest of the models has all worked above 80% accuracy, with the other metrics working out above 79%. "
   ]
  },
  {
   "cell_type": "code",
   "execution_count": 106,
   "metadata": {},
   "outputs": [],
   "source": [
    "#LIBRARIES\n",
    "# !pip install pandas\n",
    "# !pip install nltk\n",
    "\n",
    "import pandas as pd\n",
    "import nltk\n",
    "from nltk.corpus import stopwords\n",
    "import sklearn\n",
    "from sklearn.model_selection import train_test_split\n",
    "from sklearn.feature_extraction.text import CountVectorizer, TfidfVectorizer\n",
    "from sklearn.naive_bayes import MultinomialNB\n",
    "from sklearn.svm import SVC \n",
    "from sklearn.linear_model import LogisticRegression\n",
    "from sklearn.metrics import accuracy_score, precision_score, recall_score, f1_score\n",
    "from sklearn.metrics import confusion_matrix, ConfusionMatrixDisplay\n",
    "import pickle\n",
    "import warnings\n",
    "warnings.simplefilter(\"ignore\")"
   ]
  },
  {
   "cell_type": "code",
   "execution_count": 107,
   "metadata": {},
   "outputs": [],
   "source": [
    "#lOADING DATASETS \n",
    "import pandas as pd\n",
    "df = pd.read_csv(\"data and pickle files/cleaned_data_new.csv\",encoding=\"latin1\") #due to special charas should be encoded as latin 1\n",
    "\n",
    "toCheck = pd.read_csv(\"data and pickle files/updated_data_new.csv\",encoding=\"latin1\")\n",
    "#REMOVE MAX\n",
    "pd.set_option('display.max_columns', None)\n",
    "pd.set_option('display.max_rows', None)\n",
    "\n",
    "#DROP EXTRA COLUMNS\n",
    "df.drop(['Unnamed: 0'], axis=1, inplace=True)\n",
    "toCheck.drop(['Unnamed: 0'], axis=1, inplace=True)"
   ]
  },
  {
   "cell_type": "markdown",
   "metadata": {},
   "source": [
    "# DOUBLE-CHECKING...\n",
    "\n",
    "Double checking if there are any NULL values within the dataset. This would cause issues later on if there are as such."
   ]
  },
  {
   "cell_type": "code",
   "execution_count": 108,
   "metadata": {},
   "outputs": [
    {
     "data": {
      "text/html": [
       "<div>\n",
       "<style scoped>\n",
       "    .dataframe tbody tr th:only-of-type {\n",
       "        vertical-align: middle;\n",
       "    }\n",
       "\n",
       "    .dataframe tbody tr th {\n",
       "        vertical-align: top;\n",
       "    }\n",
       "\n",
       "    .dataframe thead th {\n",
       "        text-align: right;\n",
       "    }\n",
       "</style>\n",
       "<table border=\"1\" class=\"dataframe\">\n",
       "  <thead>\n",
       "    <tr style=\"text-align: right;\">\n",
       "      <th></th>\n",
       "      <th>review_text</th>\n",
       "      <th>verified_purchase</th>\n",
       "    </tr>\n",
       "  </thead>\n",
       "  <tbody>\n",
       "  </tbody>\n",
       "</table>\n",
       "</div>"
      ],
      "text/plain": [
       "Empty DataFrame\n",
       "Columns: [review_text, verified_purchase]\n",
       "Index: []"
      ]
     },
     "execution_count": 108,
     "metadata": {},
     "output_type": "execute_result"
    }
   ],
   "source": [
    "#CHECKING WHICH ROW IS NULL FROM PRE-PROCESSING\n",
    "checkNULL = df.isnull()\n",
    "checkNULL = checkNULL.any(axis=1)\n",
    "df[checkNULL]"
   ]
  },
  {
   "cell_type": "code",
   "execution_count": 109,
   "metadata": {},
   "outputs": [],
   "source": [
    "toCheck = toCheck.drop_duplicates().reset_index(drop=True)"
   ]
  },
  {
   "cell_type": "code",
   "execution_count": 110,
   "metadata": {},
   "outputs": [
    {
     "data": {
      "text/html": [
       "<div>\n",
       "<style scoped>\n",
       "    .dataframe tbody tr th:only-of-type {\n",
       "        vertical-align: middle;\n",
       "    }\n",
       "\n",
       "    .dataframe tbody tr th {\n",
       "        vertical-align: top;\n",
       "    }\n",
       "\n",
       "    .dataframe thead th {\n",
       "        text-align: right;\n",
       "    }\n",
       "</style>\n",
       "<table border=\"1\" class=\"dataframe\">\n",
       "  <thead>\n",
       "    <tr style=\"text-align: right;\">\n",
       "      <th></th>\n",
       "      <th>review_text</th>\n",
       "      <th>verified_purchase</th>\n",
       "    </tr>\n",
       "  </thead>\n",
       "  <tbody>\n",
       "    <tr>\n",
       "      <th>191</th>\n",
       "      <td>A+</td>\n",
       "      <td>True</td>\n",
       "    </tr>\n",
       "    <tr>\n",
       "      <th>523</th>\n",
       "      <td>5*</td>\n",
       "      <td>True</td>\n",
       "    </tr>\n",
       "    <tr>\n",
       "      <th>1072</th>\n",
       "      <td>very</td>\n",
       "      <td>True</td>\n",
       "    </tr>\n",
       "    <tr>\n",
       "      <th>1111</th>\n",
       "      <td>Does what it should</td>\n",
       "      <td>True</td>\n",
       "    </tr>\n",
       "    <tr>\n",
       "      <th>1230</th>\n",
       "      <td>A+</td>\n",
       "      <td>True</td>\n",
       "    </tr>\n",
       "    <tr>\n",
       "      <th>1316</th>\n",
       "      <td>A*****</td>\n",
       "      <td>True</td>\n",
       "    </tr>\n",
       "  </tbody>\n",
       "</table>\n",
       "</div>"
      ],
      "text/plain": [
       "              review_text  verified_purchase\n",
       "191                    A+               True\n",
       "523                    5*               True\n",
       "1072                 very               True\n",
       "1111  Does what it should               True\n",
       "1230                   A+               True\n",
       "1316               A*****               True"
      ]
     },
     "execution_count": 110,
     "metadata": {},
     "output_type": "execute_result"
    }
   ],
   "source": [
    "toCheck.iloc[[191,523,1072,1111,1230,1316],[3,4]]"
   ]
  },
  {
   "cell_type": "markdown",
   "metadata": {},
   "source": [
    "Checking the old csv file, it can be seen as to why the five rows were totally cleaned out within its review_text. That was because within the text processing stage previously, only words which held meaning were kept, and if we refer to the second table we can see that most of them were either stopwords or had symbols and numbers. Since they don't hold meaning either way, these will be dropped subsequently. "
   ]
  },
  {
   "cell_type": "code",
   "execution_count": 111,
   "metadata": {},
   "outputs": [],
   "source": [
    "#DROP THE NULL ROWS\n",
    "df = df.dropna(how='any',axis=0) "
   ]
  },
  {
   "cell_type": "code",
   "execution_count": 112,
   "metadata": {},
   "outputs": [
    {
     "data": {
      "text/plain": [
       "verified_purchase\n",
       "False    0.523865\n",
       "True     0.476135\n",
       "Name: proportion, dtype: float64"
      ]
     },
     "execution_count": 112,
     "metadata": {},
     "output_type": "execute_result"
    }
   ],
   "source": [
    "#UPDATED VP VALUES \n",
    "df[\"verified_purchase\"].value_counts(normalize=True)"
   ]
  },
  {
   "cell_type": "markdown",
   "metadata": {},
   "source": [
    "The change barely had any affect on the T/F values, and thus we are ready to proceed."
   ]
  },
  {
   "cell_type": "markdown",
   "metadata": {},
   "source": [
    "# MODELING\n",
    "\n",
    "Within the dataset, there are currently only two columns. Out of the two, review_text is going to be assigned as the input variable, and verified_purchases as the target variable. The data is then going to be split accordingly."
   ]
  },
  {
   "cell_type": "code",
   "execution_count": 113,
   "metadata": {},
   "outputs": [],
   "source": [
    "#ASSIGN THE VARIABLES\n",
    "X = df['review_text'] #input var\n",
    "y = df['verified_purchase'] #target var"
   ]
  },
  {
   "cell_type": "code",
   "execution_count": 114,
   "metadata": {},
   "outputs": [
    {
     "name": "stdout",
     "output_type": "stream",
     "text": [
      "Number of rows:\n",
      "Entire dataset: 1718\n",
      "Train dataset: 1030\n",
      "Test dataset: 688\n"
     ]
    }
   ],
   "source": [
    "#SPLIT DATA\n",
    "X_train, X_test, y_train, y_test = train_test_split(\n",
    "    df['review_text'], df['verified_purchase'],test_size=0.4, random_state=42) #40% gives best results, 42 is no of life...\n",
    "\n",
    "entiredf = format(df.shape[0])\n",
    "traindf = format(X_train.shape[0])\n",
    "testdf = format(X_test.shape[0])\n",
    "\n",
    "print('Number of rows:')\n",
    "print('Entire dataset:', entiredf)\n",
    "print('Train dataset:', traindf)\n",
    "print('Test dataset:',testdf)"
   ]
  },
  {
   "cell_type": "markdown",
   "metadata": {},
   "source": [
    "The data is decided to be split into 60 - 40, which has been determined by trial and error. This splitting produces the highest accuracy for the models, and thus we are going to with that. "
   ]
  },
  {
   "cell_type": "markdown",
   "metadata": {},
   "source": [
    "## COUNT VECTORIZER AND MODELING\n",
    "\n",
    "word vectorization maps words or phrases from a lexicon to a matching vector of real numbers, which may then be used to determine word predictions and semantics, and this is done due to the fact that models only understand numerical data.\n",
    "\n",
    "We are going to be utlizing two of the vectorization methods, the first one being count vectorizer. We just count the number of times a word appears in the document in CountVectorizer, which results in a bias in favor of the most common terms."
   ]
  },
  {
   "cell_type": "code",
   "execution_count": 115,
   "metadata": {},
   "outputs": [
    {
     "name": "stdout",
     "output_type": "stream",
     "text": [
      "\n",
      "Vocabulary: \n",
      " {'sure': 1709, 'big': 159, 'jar': 912, 'cost': 382, 'doubl': 509, 'size': 1540, 'normal': 1148, 'buy': 236, 'persil': 1238, 'colour': 329, 'powder': 1297, 'unavail': 1836, 'decid': 433, 'tri': 1815, 'impress': 877, 'got': 757, 'wash': 1896, 'reason': 1368, 'clean': 310, 'remov': 1401, 'stain': 1632, 'babi': 116, 'nappi': 1116, 'cream': 395, 'smell': 1559, 'unpleas': 1850, 'overpow': 1200, 'extra': 595, 'rins': 1427, 'fabric': 603, 'condition': 355, 'need': 1127, 'tab': 1724, 'cloth': 320, 'dri': 520, 'cardboard': 253, 'hard': 796, 'creas': 397, 'bodi': 183, 'deodor': 458, 'love': 995, 'great': 767, 'valu': 1862, 'money': 1089, 'reviv': 1419, 'week': 1911, 'ago': 39, 'usual': 1861, 'complet': 345, 'differ': 480, 'make': 1016, 'wipe': 1932, 'fallen': 617, 'deffinalti': 439, 'purchas': 1336, 'sensit': 1495, 'issu': 907, 'struggl': 1672, 'fond': 673, 'leav': 952, 'reaction': 1361, 'face': 605, 'review': 1418, 'collect': 327, 'promot': 1322, 'pack': 1203, 'lynx': 1008, 'shower': 1524, 'gel': 720, 'decent': 432, 'larg': 936, 'good': 753, 'stuff': 1676, 'happi': 794, 'current': 412, 'sell': 1490, 'price': 1312, 'compar': 339, 'supermarket': 1704, 'pleasant': 1268, 'add': 17, 'small': 1554, 'fresh': 696, 'suffer': 1690, 'mild': 1060, 'ezyema': 601, 'alway': 57, 'care': 255, 'skincar': 1541, 'prefer': 1302, 'brand': 203, 'nasti': 1118, 'fan': 620, 'simpl': 1531, 'moisturis': 1086, 'switch': 1723, 'kind': 924, 'notic': 1152, 'radiant': 1351, 'left': 953, 'feel': 634, 'light': 963, 'refresh': 1383, 'non': 1145, 'perfum': 1233, 'best': 157, 'cleans': 312, 'everi': 576, 'day': 428, 'cleanser': 313, 'introduc': 900, 'regim': 1386, 'afford': 31, 'rang': 1353, 'pour': 1295, 'smaller': 1555, 'bottl': 196, 'manag': 1020, 'beat': 141, 'nice': 1137, 'deliveri': 454, 'fit': 653, 'purpos': 1340, 'bought': 197, 'month': 1090, 'stop': 1651, 'suggest': 1693, 'stay': 1641, 'continu': 368, 'gentl': 723, 'think': 1762, 'ordinari': 1185, 'packag': 1204, 'exfoli': 588, 'quit': 1349, 'actual': 15, 'mean': 1044, 'year': 1962, 'comment': 334, 'linger': 974, 'fragranc': 692, 'like': 967, 'chemic': 283, 'job': 914, 'soften': 1579, 'chang': 271, 'run': 1445, 'star': 1636, 'consist': 362, 'amazon': 61, 'fluctuat': 665, 'mani': 1022, 'particulr': 1218, 'item': 910, 'watch': 1902, 'easili': 534, 'shop': 1522, 'stock': 1650, 'brilliant': 211, 'offer': 1168, 'gorgeou': 755, 'comfort': 332, 'hous': 851, 'bigger': 160, 'regular': 1388, 'basi': 131, 'special': 1608, 'includ': 881, 'soft': 1578, 'smooth': 1564, 'squeaki': 1626, 'downsid': 511, 'crave': 393, 'bad': 118, 'pregnanc': 1303, 'physic': 1251, 'eat': 535, 'time': 1778, 'favourit': 628, 'smelt': 1562, 'anyth': 72, 'long': 987, 'custom': 414, 'look': 990, 'super': 1701, 'moistur': 1085, 'nightli': 1142, 'treat': 1811, 'perfect': 1230, 'appli': 80, 'spong': 1620, 'warm': 1894, 'recommend': 1376, 'everyon': 579, 'bath': 136, 'toner': 1794, 'realli': 1366, 'sooth': 1596, 'forward': 689, 'lot': 993, 'definit': 446, 'order': 1184, 'arriv': 92, 'promis': 1321, 'peopl': 1229, 'forget': 680, 'posit': 1289, 'feedback': 633, 'quick': 1346, 'neg': 1128, 'point': 1279, 'describ': 467, 'servic': 1500, 'thank': 1754, 'free': 695, 'absolut': 4, 'hope': 844, 'limit': 971, 'edit': 543, 'end': 557, 'stayer': 1642, 'monthli': 1091, 'let': 957, 'mark': 1027, 'break': 204, 'howev': 853, 'littl': 981, 'goe': 748, 'way': 1906, 'ask': 99, 'intens': 898, 'liquid': 978, 'fuchsia': 707, 'passion': 1221, 'ml': 1078, 'said': 1450, 'ye': 1961, 'outsid': 1191, 'warn': 1895, 'ultra': 1835, 'concentr': 349, 'recycl': 1378, 'plastic': 1265, 'addit': 18, 'compani': 338, 'state': 1639, 'save': 1465, 'releas': 1392, 'wast': 1899, 'greenhous': 769, 'gase': 718, 'blue': 180, 'sky': 1542, 'winner': 1930, 'want': 1893, 'help': 820, 'environ': 566, 'pod': 1278, 'subtl': 1684, 'aroma': 91, 'smoothli': 1567, 'dont': 506, 'drench': 518, 'lotion': 994, 'hand': 788, 'bit': 166, 'expens': 591, 'pretti': 1308, 'worth': 1948, 'outer': 1190, 'layer': 947, 'cover': 390, 'becom': 145, 'sticki': 1645, 'stick': 1644, 'excel': 584, 'qualiti': 1341, 'rapid': 1354, 'irrit': 905, 'red': 1379, 'blemish': 174, 'hair': 786, 'static': 1640, 'spill': 1617, 'everywher': 581, 'box': 200, 'pleas': 1267, 'tell': 1743, 'drop': 524, 'came': 241, 'shaken': 1506, 'lid': 959, 'tidi': 1772, 'disgust': 496, 'contact': 365, 'ok': 1173, 'terribl': 1749, 'strong': 1670, 'soap': 1574, 'basic': 132, 'harm': 798, 'nourish': 1153, 'open': 1178, 'snap': 1570, 'broken': 217, 'leak': 951, 'half': 787, 'cheap': 275, 'cheer': 281, 'makeup': 1018, 'eas': 531, 'micellar': 1058, 'water': 1903, 'say': 1467, 'impresss': 878, 'content': 367, 'aw': 112, 'cut': 415, 'right': 1426, 'fingernail': 649, 'turn': 1830, 'upsid': 1858, 'approach': 84, 'empti': 556, 'ridicul': 1425, 'design': 469, 'divin': 499, 'veey': 1869, 'crafti': 392, 'phenomen': 1247, 'age': 36, 'extrem': 596, 'function': 710, 'measur': 1046, 'cap': 244, 'live': 982, 'hype': 861, 'clearli': 316, 'lead': 949, 'market': 1028, 'leader': 950, 'softer': 1580, 'inspir': 892, 'confid': 357, 'person': 1240, 'towel': 1803, 'certainli': 267, 'better': 158, 'cheaper': 276, 'work': 1943, 'harsh': 800, 'strike': 1667, 'balanc': 123, 'wife': 1927, 'complain': 343, 'difficult': 481, 'accur': 11, 'probabl': 1316, 'slurp': 1553, 'reckon': 1375, 'fact': 607, 'nearer': 1123, 'suppos': 1708, 'econom': 539, 'cool': 375, 'carri': 256, 'know': 930, 'thing': 1761, 'someth': 1588, 'els': 551, 'manufactur': 1024, 'new': 1133, 'path': 1225, 'anoth': 68, 'green': 768, 'famili': 619, 'enjoy': 562, 'ice': 862, 'textur': 1753, 'plenti': 1272, 'chocol': 292, 'fish': 652, 'sweet': 1720, 'scent': 1472, 'young': 1967, 'old': 1175, 'friendli': 701, 'honestli': 840, 'problemat': 1318, 'prone': 1324, 'dermat': 463, 'bio': 163, 'unclog': 1839, 'pore': 1287, 'defiantli': 440, 'term': 1748, 'greasi': 766, 'receiv': 1372, 'rd': 1359, 'fantast': 622, 'gloopi': 741, 'sink': 1537, 'quickli': 1348, 'heavi': 814, 'combin': 330, 'ideal': 866, 'hour': 850, 'wear': 1908, 'total': 1800, 'sometim': 1589, 'creami': 396, 'short': 1523, 'period': 1235, 'sunk': 1700, 'wrinkl': 1954, 'perform': 1232, 'miracl': 1070, 'prevent': 1309, 'effect': 544, 'heat': 813, 'sun': 1698, 'recent': 1373, 'true': 1823, 'soon': 1593, 'protect': 1328, 'plain': 1262, 'noth': 1150, 'huge': 856, 'perhap': 1234, 'english': 561, 'mustard': 1112, 'far': 623, 'polish': 1280, 'kid': 923, 'spend': 1612, 'pot': 1292, 'noodl': 1146, 'flavour': 659, 'larger': 937, 'averag': 111, 'bargain': 127, 'tast': 1734, 'depth': 462, 'meal': 1043, 'importantli': 875, 'gluten': 745, 'especi': 571, 'mr': 1105, 'poor': 1283, 'mostli': 1098, 'simplic': 1533, 'contain': 366, 'foam': 669, 'hydrat': 860, 'handi': 789, 'bulk': 227, 'worri': 1945, 'regularli': 1389, 'slow': 1552, 'cook': 374, 'wake': 1891, 'morn': 1094, 'cold': 326, 'winter': 1931, 'children': 288, 'tasti': 1735, 'summer': 1697, 'indoor': 886, 'local': 984, 'men': 1052, 'wrong': 1957, 'paid': 1207, 'bargin': 128, 'deliv': 453, 'shampoo': 1508, 'tini': 1781, 'anymor': 70, 'line': 972, 'thought': 1767, 'fake': 615, 'similar': 1530, 'africa': 33, 'poorer': 1284, 'sinc': 1535, 'label': 932, 'fab': 602, 'deal': 431, 'browni': 221, 'round': 1437, 'instead': 895, 'slightli': 1547, 'thicker': 1760, 'consid': 360, 'hold': 834, 'flat': 657, 'previou': 1310, 'formula': 686, 'streaki': 1662, 'orang': 1183, 'streak': 1661, 'search': 1484, 'easi': 532, 'waterproof': 1904, 'mascara': 1032, 'anyon': 71, 'oreal': 1186, 'believ': 149, 'massiv': 1035, 'benefit': 154, 'chose': 297, 'incred': 884, 'inch': 880, 'felt': 637, 'fast': 624, 'bare': 126, 'longer': 988, 'compact': 337, 'iron': 904, 'past': 1222, 'tear': 1739, 'penni': 1228, 'scale': 1468, 'away': 114, 'highli': 826, 'absorb': 6, 'oili': 1172, 'stand': 1633, 'yummi': 1970, 'suit': 1694, 'delici': 451, 'sugari': 1692, 'amaz': 58, 'exactli': 583, 'tone': 1793, 'cotton': 384, 'wool': 1941, 'rub': 1441, 'daili': 419, 'chsnge': 300, 'ther': 1756, 'pure': 1337, 'whatsoev': 1919, 'unprofession': 1851, 'pale': 1209, 'medium': 1049, 'dark': 425, 'dove': 510, 'tan': 1731, 'row': 1439, 'twice': 1831, 'weekli': 1913, 'gentli': 724, 'till': 1777, 'bin': 162, 'alot': 52, 'wet': 1918, 'immedi': 871, 'claim': 306, 'clear': 314, 'remain': 1397, 'night': 1141, 'serum': 1498, 'contribut': 369, 'cleaner': 311, 'finish': 650, 'act': 14, 'reli': 1393, 'everyth': 580, 'problem': 1317, 'itch': 908, 'itchi': 909, 'applic': 81, 'smoothest': 1566, 'routin': 1438, 'dilut': 485, 'sever': 1502, 'damag': 421, 'fluffi': 667, 'alreadi': 54, 'step': 1643, 'dad': 418, 'solid': 1585, 'easier': 533, 'place': 1261, 'minut': 1069, 'facial': 606, 'choos': 296, 'read': 1362, 'correctli': 380, 'litr': 980, 'quantiti': 1342, 'lt': 999, 'crazi': 394, 'shave': 1514, 'excit': 586, 'react': 1360, 'dairi': 420, 'cone': 356, 'near': 1122, 'cornetto': 378, 'calori': 240, 'choc': 290, 'lump': 1001, 'second': 1486, 'pl': 1260, 'honest': 839, 'upset': 1857, 'temperament': 1744, 'lazi': 948, 'girl': 730, 'solut': 1586, 'option': 1182, 'somewher': 1591, 'holiday': 836, 'henc': 821, 'lather': 942, 'stapl': 1635, 'home': 837, 'standard': 1634, 'heal': 809, 'abras': 3, 'boy': 201, 'store': 1654, 'cupboard': 408, 'dead': 430, 'lip': 977, 'vaselin': 1867, 'therapi': 1757, 'origin': 1188, 'mini': 1065, 'late': 939, 'afternoon': 34, 'everyday': 578, 'result': 1413, 'type': 1832, 'met': 1056, 'fed': 631, 'mess': 1054, 'machin': 1009, 'drawer': 516, 'load': 983, 'space': 1603, 'laundri': 944, 'known': 931, 'subscrib': 1680, 'power': 1299, 'residu': 1409, 'drum': 525, 'come': 331, 'refil': 1382, 'question': 1345, 'plu': 1273, 'bleach': 173, 'happen': 793, 'occasion': 1163, 'stuck': 1674, 'properli': 1326, 'start': 1637, 'alongsid': 51, 'sustain': 1714, 'glow': 742, 'palm': 1210, 'nail': 1115, 'thoroughli': 1766, 'piec': 1257, 'lucki': 1000, 'complaint': 344, 'magnum': 1013, 'hunk': 858, 'whirl': 1924, 'friend': 700, 'hardli': 797, 'expect': 590, 'allow': 47, 'serv': 1499, 'unless': 1847, 'avail': 110, 'base': 129, 'smallest': 1556, 'worthwhil': 1949, 'promptli': 1323, 'cup': 407, 'tea': 1738, 'man': 1019, 'lunch': 1002, 'conveni': 371, 'gone': 751, 'imagin': 869, 'king': 925, 'gram': 761, 'overal': 1194, 'today': 1786, 'mother': 1102, 'ban': 124, 'sneaki': 1571, 'woke': 1935, 'tacki': 1726, 'natur': 1120, 'healthi': 811, 'isnt': 906, 'cloy': 321, 'rememb': 1399, 'chicken': 286, 'mushroom': 1111, 'pie': 1256, 'filler': 644, 'ad': 16, 'salt': 1454, 'ruin': 1444, 'chuck': 301, 'tongu': 1796, 'miss': 1074, 'season': 1485, 'accident': 10, 'swallow': 1715, 'sea': 1482, 'kcal': 918, 'soup': 1601, 'control': 370, 'diet': 479, 'im': 868, 'vegan': 1871, 'milk': 1062, 'artifici': 96, 'beauti': 143, 'mayb': 1040, 'cashmer': 259, 'sweater': 1719, 'white': 1925, 'gold': 749, 'spring': 1625, 'matter': 1038, 'cardigan': 254, 'thirti': 1764, 'degre': 449, 'tie': 1773, 'boil': 184, 'bikini': 161, 'dedic': 435, 'ylang': 1964, 'hit': 831, 'town': 1804, 'ms': 1106, 'burnt': 233, 'fron': 703, 'bladder': 170, 'weak': 1907, 'oil': 1171, 'glam': 735, 'glue': 744, 'slip': 1550, 'silki': 1529, 'scenti': 1473, 'version': 1880, 'cucumb': 405, 'deep': 436, 'mostur': 1099, 'definetli': 445, 'mostureris': 1100, 'pouch': 1293, 'brown': 220, 'safe': 1449, 'capsul': 247, 'wat': 1901, 'spent': 1613, 'disappoint': 490, 'pictur': 1255, 'mislead': 1073, 'tight': 1774, 'caus': 262, 'grandchildren': 763, 'lolli': 986, 'unfortun': 1844, 'sold': 1583, 'packet': 1205, 'lime': 969, 'weird': 1915, 'hot': 849, 'tough': 1802, 'mix': 1077, 'fork': 682, 'strang': 1659, 'curri': 413, 'brill': 210, 'snack': 1569, 'anytim': 73, 'prepar': 1305, 'awesom': 115, 'fraction': 691, 'previous': 1311, 'produc': 1320, 'admir': 21, 'blast': 172, 'whiff': 1922, 'planet': 1264, 'pollut': 1281, 'win': 1928, 'number': 1156, 'bonu': 190, 'door': 507, 'odourless': 1165, 'hint': 830, 'whilst': 1923, 'glide': 739, 'unscrew': 1853, 'coupl': 388, 'household': 852, 'allerg': 45, 'constant': 363, 'hay': 805, 'fever': 639, 'dessert': 472, 'mint': 1068, 'nicest': 1138, 'mmmm': 1079, 'newer': 1135, 'student': 1675, 'yuck': 1969, 'sauc': 1463, 'pasta': 1223, 'carboard': 250, 'situat': 1539, 'access': 9, 'kettl': 920, 'mugshot': 1108, 'mistak': 1075, 'eczema': 542, 'allergi': 46, 'fail': 610, 'liter': 979, 'broke': 216, 'bump': 228, 'shame': 1507, 'admit': 22, 'shini': 1520, 'wonder': 1937, 'pink': 1258, 'dramat': 514, 'someon': 1587, 'explain': 594, 'freshen': 697, 'mostiris': 1097, 'took': 1798, 'proof': 1325, 'set': 1501, 'spray': 1623, 'genuin': 725, 'consciou': 359, 'risotto': 1429, 'gift': 728, 'requir': 1408, 'multi': 1109, 'subscript': 1681, 'squeez': 1627, 'puff': 1332, 'froth': 704, 'gym': 783, 'bag': 121, 'overwhelm': 1201, 'alon': 50, 'rush': 1447, 'colman': 328, 'sunday': 1699, 'roast': 1430, 'tube': 1827, 'invari': 901, 'inferior': 888, 'nozzl': 1155, 'block': 176, 'surpris': 1712, 'massag': 1034, 'spot': 1622, 'disappear': 489, 'smoother': 1565, 'neutral': 1132, 'floor': 661, 'extremli': 597, 'doesnt': 502, 'frangranc': 694, 'fairli': 614, 'spread': 1624, 'soak': 1573, 'realis': 1365, 'hate': 802, 'area': 87, 'scalp': 1470, 'husband': 859, 'satisfi': 1462, 'creation': 399, 'close': 319, 'match': 1036, 'honeysuckl': 842, 'sandalwood': 1459, 'descript': 468, 'luvli': 1006, 'check': 278, 'bathroom': 137, 'variou': 1866, 'cif': 303, 'shine': 1519, 'tile': 1776, 'ceram': 265, 'mirror': 1071, 'practic': 1300, 'straighten': 1658, 'tub': 1826, 'chunk': 302, 'marshmallow': 1030, 'caramel': 249, 'rate': 1358, 'micel': 1057, 'regret': 1387, 'feed': 632, 'event': 574, 'absoulut': 7, 'pump': 1334, 'separ': 1497, 'clog': 318, 'fix': 654, 'loyalti': 998, 'sooner': 1594, 'relax': 1391, 'eco': 538, 'parcel': 1214, 'sore': 1598, 'convert': 372, 'tin': 1779, 'thankyou': 1755, 'charg': 274, 'overbear': 1195, 'individu': 885, 'tend': 1745, 'dandruff': 424, 'anti': 69, 'firstli': 651, 'lightweight': 966, 'dress': 519, 'straight': 1656, 'amazingli': 59, 'biolog': 165, 'deterg': 474, 'gener': 721, 'soil': 1582, 'older': 1176, 'pound': 1294, 'dermatolog': 464, 'test': 1751, 'endors': 558, 'british': 214, 'foundat': 690, 'develop': 476, 'condit': 354, 'forev': 679, 'blackhead': 169, 'zone': 1972, 'nose': 1149, 'despit': 471, 'vanilla': 1863, 'yogurt': 1966, 'alpro': 53, 'blop': 177, 'breakout': 205, 'clearer': 315, 'glowi': 743, 'besid': 156, 'bed': 146, 'whenev': 1920, 'effort': 546, 'cornet': 377, 'fair': 612, 'eye': 598, 'lili': 968, 'ladi': 933, 'burn': 232, 'crisp': 401, 'uncov': 1841, 'return': 1416, 'went': 1916, 'med': 1047, 'arm': 90, 'sparingli': 1606, 'didnt': 477, 'defin': 442, 'liber': 958, 'leg': 954, 'sassi': 1461, 'bod': 182, 'sit': 1538, 'bronz': 218, 'slight': 1545, 'hook': 843, 'stope': 1652, 'otherwis': 1189, 'bother': 195, 'attract': 104, 'dozen': 512, 'bomb': 187, 'ingredi': 889, 'melt': 1050, 'togeth': 1788, 'gross': 773, 'gon': 750, 'na': 1114, 'throw': 1769, 'coca': 324, 'butter': 235, 'marmit': 1029, 'lover': 997, 'glass': 737, 'xlarg': 1959, 'discontinu': 492, 'horribl': 846, 'gave': 719, 'rash': 1356, 'sharp': 1512, 'begin': 148, 'assum': 101, 'grow': 775, 'ocado': 1161, 'sampl': 1456, 'readi': 1363, 'fight': 642, 'tire': 1783, 'drawn': 517, 'child': 287, 'alcohol': 43, 'suitabl': 1695, 'wide': 1926, 'awak': 113, 'smelli': 1560, 'pit': 1259, 'retain': 1415, 'maker': 1017, 'concept': 350, 'recal': 1369, 'tetra': 1752, 'public': 1331, 'innov': 891, 'sleev': 1544, 'style': 1677, 'fulli': 708, 'glad': 734, 'dose': 508, 'counter': 386, 'fine': 648, 'print': 1314, 'wrapper': 1953, 'magnif': 1012, 'anim': 63, 'food': 674, 'import': 874, 'provid': 1330, 'headquart': 808, 'offic': 1169, 'countri': 387, 'sale': 1453, 'reduc': 1380, 'carbon': 251, 'footprint': 676, 'torn': 1799, 'yo': 1965, 'born': 194, 'defient': 441, 'suppl': 1705, 'replenish': 1405, 'daytim': 429, 'reappli': 1367, 'overnight': 1199, 'unscent': 1852, 'patch': 1224, 'tbh': 1737, 'remind': 1400, 'loo': 989, 'claw': 308, 'saw': 1466, 'accept': 8, 'nation': 1119, 'associ': 100, 'toler': 1791, 'fifth': 641, 'swell': 1721, 'wrap': 1952, 'daughter': 427, 'persuad': 1242, 'hesit': 822, 'august': 105, 'wow': 1951, 'stream': 1663, 'picki': 1254, 'tonn': 1797, 'teen': 1740, 'delight': 452, 'stinki': 1649, 'fortun': 688, 'featur': 630, 'flare': 656, 'clip': 317, 'instantli': 894, 'sensat': 1494, 'unlik': 1848, 'particularli': 1217, 'freshli': 698, 'definatli': 443, 'obviou': 1159, 'sweat': 1718, 'repair': 1403, 'choic': 295, 'paragon': 1213, 'champ': 270, 'main': 1015, 'abl': 2, 'singl': 1536, 'stubborn': 1673, 'bat': 133, 'wing': 1929, 'boot': 193, 'tame': 1730, 'quench': 1344, 'fell': 636, 'mayonnais': 1042, 'substanc': 1682, 'squeezi': 1628, 'geniu': 722, 'idea': 865, 'tall': 1729, 'unstabl': 1854, 'ive': 911, 'fridg': 699, 'tumbl': 1828, 'brittl': 215, 'shatter': 1513, 'kitchen': 927, 'groundhog': 774, 'imposs': 876, 'cri': 400, 'overhaul': 1197, 'oz': 1202, 'csmart': 403, 'screw': 1478, 'determin': 475, 'loos': 991, 'entir': 565, 'knife': 929, 'word': 1942, 'wise': 1933, 'advoid': 30, 'smart': 1557, 'son': 1592, 'visit': 1884, 'certifi': 268, 'launder': 943, 'monday': 1088, 'heavili': 815, 'mistreat': 1076, 'superb': 1702, 'neck': 1126, 'amazinng': 60, 'health': 810, 'youth': 1968, 'ill': 867, 'pun': 1335, 'intend': 897, 'altern': 55, 'forth': 687, 'healthier': 812, 'form': 683, 'advic': 28, 'minimum': 1066, 'write': 1956, 'rubbish': 1443, 'annoy': 66, 'asid': 98, 'runni': 1446, 'plug': 1274, 'hole': 835, 'concern': 351, 'manli': 1023, 'foami': 670, 'unbeliev': 1837, 'compliment': 347, 'pantri': 1211, 'lamin': 934, 'rid': 1424, 'organ': 1187, 'cosmet': 381, 'high': 825, 'tag': 1727, 'sl': 1543, 'agent': 37, 'creat': 398, 'rich': 1422, 'matur': 1039, 'delic': 450, 'sodium': 1577, 'laureth': 945, 'sulfat': 1696, 'lauryl': 946, 'paraben': 1212, 'tip': 1782, 'weekend': 1912, 'brought': 219, 'sting': 1647, 'brilliantli': 212, 'strict': 1666, 'vegetarian': 1873, 'wernt': 1917, 'veggi': 1874, 'eager': 530, 'worst': 1947, 'flaki': 655, 'elimin': 550, 'ankl': 65, 'bundl': 230, 'desper': 470, 'veg': 1870, 'cube': 404, 'batch': 134, 'bland': 171, 'recipebut': 1374, 'elsewher': 552, 'batgain': 135, 'portion': 1288, 'diliveri': 484, 'hav': 803, 'btilliant': 222, 'classic': 307, 'effici': 545, 'linen': 973, 'pre': 1301, 'defo': 447, 'direct': 487, 'pleasantli': 1269, 'alo': 48, 'vera': 1875, 'partner': 1219, 'sadli': 1448, 'share': 1510, 'drip': 523, 'discov': 493, 'usag': 1859, 'shimmeri': 1518, 'articl': 94, 'acn': 13, 'scar': 1471, 'opposit': 1181, 'life': 961, 'visibl': 1883, 'fade': 609, 'dermatologist': 465, 'game': 716, 'changer': 272, 'improv': 879, 'vastli': 1868, 'perfectli': 1231, 'sorri': 1599, 'voucher': 1887, 'post': 1291, 'slimi': 1549, 'unhappi': 1845, 'respons': 1411, 'count': 385, 'deoder': 457, 'christma': 298, 'dryness': 527, 'cult': 406, 'repurchas': 1407, 'blend': 175, 'nope': 1147, 'rest': 1412, 'wondr': 1938, 'luxuri': 1007, 'kept': 919, 'weight': 1914, 'becam': 144, 'obsess': 1158, 'pool': 1282, 'room': 1431, 'luv': 1005, 'stabl': 1631, 'aswel': 102, 'maid': 1014, 'ect': 541, 'trick': 1818, 'gmo': 746, 'appeal': 78, 'trace': 1806, 'gooey': 754, 'marshmallowey': 1031, 'phish': 1248, 'nephew': 1130, 'revolt': 1420, 'real': 1364, 'understand': 1842, 'mayo': 1041, 'bondi': 188, 'sand': 1457, 'gradual': 760, 'wouldnt': 1950, 'taken': 1728, 'havent': 804, 'figur': 643, 'necess': 1125, 'medicin': 1048, 'cabinet': 238, 'elbow': 548, 'knee': 928, 'fault': 625, 'nutrit': 1157, 'moreish': 1093, 'fli': 660, 'sent': 1496, 'hubbi': 855, 'format': 684, 'sot': 1600, 'wors': 1946, 'incorpor': 883, 'eventu': 575, 'apart': 76, 'margin': 1026, 'st': 1630, 'tropez': 1820, 'shimmer': 1517, 'cell': 263, 'user': 1860, 'harshli': 801, 'case': 258, 'complexion': 346, 'adequ': 20, 'pleasent': 1270, 'spare': 1605, 'rib': 1421, 'hive': 832, 'aggrav': 38, 'view': 1881, 'advanc': 25, 'vitamin': 1886, 'miner': 1064, 'onlin': 1177, 'shark': 1511, 'self': 1489, 'nervou': 1131, 'build': 226, 'thiught': 1765, 'cojld': 325, 'garnier': 717, 'apar': 75, 'stripey': 1669, 'feet': 635, 'stink': 1648, 'fals': 618, 'moral': 1092, 'stori': 1655, 'worn': 1944, 'spici': 1616, 'fear': 629, 'fragrant': 693, 'annoyiji': 67, 'occas': 1162, 'nearli': 1124, 'purifi': 1338, 'plump': 1275, 'spf': 1614, 'repeat': 1404, 'given': 732, 'booster': 192, 'versatil': 1879, 'heel': 816, 'lightli': 965, 'quicker': 1347, 'chronic': 299, 'varieti': 1865, 'chapstick': 273, 'jot': 915, 'iritatw': 903, 'afterward': 35, 'unperfum': 1849, 'vital': 1885, 'bunni': 231, 'rabbit': 1350, 'babysoft': 117, 'stronger': 1671, 'troubl': 1822, 'offend': 1166, 'naturu': 1121, 'rose': 1435, 'petal': 1245, 'send': 1492, 'gland': 736, 'overdr': 1196, 'compel': 342, 'pass': 1220, 'thr': 1768, 'sez': 1503, 'correct': 379, 'later': 940, 'brighter': 208, 'focus': 671, 'moist': 1084, 'arrog': 93, 'unilev': 1846, 'handl': 790, 'forese': 678, 'futur': 715, 'gotten': 758, 'pick': 1253, 'yesterday': 1963, 'woken': 1936, 'horrif': 847, 'headach': 807, 'afraid': 32, 'disturb': 498, 'funni': 712, 'mouth': 1104, 'crispi': 402, 'wont': 1939, 'escap': 570, 'lift': 962, 'relief': 1395, 'effortlessli': 547, 'aim': 41, 'fool': 675, 'lock': 985, 'accustom': 12, 'richer': 1423, 'wait': 1890, 'oddli': 1164, 'unblock': 1838, 'factor': 608, 'commerci': 335, 'toast': 1785, 'chees': 282, 'sandwich': 1460, 'wastag': 1900, 'autoimmun': 108, 'diseas': 495, 'dermatomyos': 466, 'scratch': 1476, 'god': 747, 'dm': 500, 'pregnant': 1304, 'belli': 150, 'obvious': 1160, 'appreci': 82, 'strip': 1668, 'persev': 1237, 'root': 1432, 'drier': 522, 'grown': 776, 'challeng': 269, 'strength': 1665, 'endur': 559, 'helmann': 819, 'risk': 1428, 'bone': 189, 'tendon': 1747, 'guest': 781, 'chocolatey': 293, 'lenor': 955, 'unstopp': 1855, 'agre': 40, 'tighter': 1775, 'forgotten': 681, 'chew': 285, 'rope': 1433, 'school': 1474, 'ha': 784, 'cours': 389, 'lie': 960, 'fanci': 621, 'maskara': 1033, 'seller': 1491, 'reliabl': 1394, 'apprehens': 83, 'target': 1733, 'deodour': 459, 'swear': 1717, 'arkward': 89, 'kick': 922, 'teenag': 1741, 'badeda': 119, 'definetley': 444, 'auto': 107, 'depend': 460, 'lighter': 964, 'touch': 1801, 'stiff': 1646, 'tradit': 1807, 'floral': 662, 'kg': 921, 'approxim': 86, 'black': 168, 'car': 248, 'guess': 780, 'supplier': 1707, 'bring': 213, 'harmoni': 799, 'tissu': 1784, 'rough': 1436, 'pain': 1208, 'pleasur': 1271, 'happili': 795, 'intoler': 899, 'latest': 941, 'variat': 1864, 'address': 19, 'environment': 567, 'transport': 1809, 'commend': 333, 'sens': 1493, 'detect': 473, 'breath': 206, 'deepli': 437, 'zesti': 1971, 'repres': 1406, 'lessen': 956, 'impact': 873, 'albeit': 42, 'anitipersperi': 64, 'superior': 1703, 'wherea': 1921, 'benefici': 153, 'therefor': 1758, 'aliv': 44, 'flavor': 658, 'straw': 1660, 'blow': 179, 'powderi': 1298, 'perspir': 1241, 'absolutelli': 5, 'particular': 1216, 'mosturis': 1101, 'bright': 207, 'deg': 448, 'washer': 1897, 'filter': 646, 'trigger': 1819, 'tablet': 1725, 'invigor': 902, 'ben': 152, 'jerri': 913, 'sickli': 1525, 'chocolati': 294, 'eaten': 536, 'smile': 1563, 'dispens': 497, 'dryer': 526, 'revel': 1417, 'meant': 1045, 'sock': 1576, 'cheapest': 277, 'nother': 1151, 'automat': 109, 'tick': 1771, 'advertis': 27, 'spell': 1611, 'overli': 1198, 'sorbet': 1597, 'biodegrad': 164, 'guy': 782, 'suffici': 1691, 'million': 1063, 'thicken': 1759, 'gravi': 764, 'england': 560, 'weather': 1909, 'expensic': 592, 'inexpens': 887, 'mositur': 1096, 'bar': 125, 'quarter': 1343, 'lose': 992, 'hors': 848, 'link': 976, 'convinc': 373, 'refer': 1381, 'batteri': 138, 'verifi': 1877, 'essenti': 572, 'deluveri': 455, 'novelti': 1154, 'reorder': 1402, 'fabul': 604, 'hike': 828, 'buyer': 237, 'sign': 1526, 'certain': 266, 'disastr': 491, 'success': 1685, 'weed': 1910, 'vinegar': 1882, 'prior': 1315, 'busi': 234, 'mum': 1110, 'neglect': 1129, 'empathis': 555, 'trial': 1816, 'opportun': 1180, 'reconnect': 1377, 'cme': 322, 'smother': 1568, 'offens': 1167, 'bedtim': 147, 'verdict': 1876, 'thumb': 1770, 'cooler': 376, 'wahs': 1889, 'process': 1319, 'frizz': 702, 'lank': 935, 'bounc': 198, 'wish': 1934, 'id': 864, 'consum': 364, 'nightmar': 1143, 'fun': 709, 'fav': 626, 'xxxx': 1960, 'follow': 672, 'instruct': 896, 'default': 438, 'flower': 663, 'fushia': 713, 'condens': 353, 'capabl': 245, 'appar': 77, 'honey': 841, 'suckl': 1686, 'asda': 97, 'perman': 1236, 'cherri': 284, 'blossom': 178, 'pea': 1227, 'sandal': 1458, 'wood': 1940, 'dog': 503, 'hinch': 829, 'scour': 1475, 'pad': 1206, 'minki': 1067, 'oven': 1193, 'hob': 833, 'tap': 1732, 'screen': 1477, 'gleam': 738, 'casserol': 260, 'icecream': 863, 'fussi': 714, 'tresemm': 1813, 'dy': 529, 'tong': 1795, 'wrist': 1955, 'surprisingli': 1713, 'shock': 1521, 'imo': 872, 'drain': 513, 'sniff': 1572, 'bunch': 229, 'subject': 1679, 'rosacea': 1434, 'coz': 391, 'niec': 1139, 'initi': 890, 'tresmemm': 1814, 'salti': 1455, 'lush': 1004, 'moeni': 1083, 'split': 1619, 'inconveni': 882, 'messi': 1055, 'transit': 1808, 'retail': 1414, 'grew': 770, 'member': 1051, 'domin': 505, 'fluid': 668, 'formul': 685, 'photo': 1250, 'appear': 79, 'relat': 1390, 'regardless': 1385, 'materi': 1037, 'loveliest': 996, 'significantli': 1527, 'modest': 1082, 'limescal': 970, 'fruit': 705, 'head': 806, 'hopingthat': 845, 'btw': 223, 'typic': 1833, 'difficulti': 482, 'fall': 616, 'moder': 1081, 'clay': 309, 'scali': 1469, 'sin': 1534, 'somewhat': 1590, 'feminin': 638, 'danc': 423, 'bay': 139, 'waxi': 1905, 'diffid': 483, 'eldest': 549, 'resist': 1410, 'storag': 1653, 'spilt': 1618, 'thinner': 1763, 'cancel': 243, 'alobg': 49, 'tryit': 1825, 'gigant': 729, 'possibl': 1290, 'mention': 1053, 'smear': 1558, 'sud': 1687, 'scrumptiou': 1481, 'authent': 106, 'confus': 358, 'caught': 261, 'sudden': 1688, 'uncook': 1840, 'chip': 289, 'circl': 304, 'circular': 305, 'motion': 1103, 'favorit': 627, 'sourc': 1602, 'gran': 762, 'canaria': 242, 'pm': 1276, 'cycl': 416, 'okay': 1174, 'equal': 568, 'narrow': 1117, 'slim': 1548, 'pourer': 1296, 'dribbl': 521, 'washload': 1898, 'mango': 1021, 'oh': 1170, 'forehead': 677, 'cheek': 280, 'scrub': 1479, 'xd': 1958, 'comparison': 340, 'kit': 926, 'ensur': 563, 'told': 1790, 'economi': 540, 'huggabl': 857, 'preserv': 1306, 'tingl': 1780, 'phone': 1249, 'nivea': 1144, 'german': 726, 'angri': 62, 'refund': 1384, 'card': 252, 'receipt': 1371, 'pocket': 1277, 'properti': 1327, 'fluff': 666, 'magic': 1011, 'speedi': 1610, 'chocci': 291, 'secret': 1487, 'deposit': 461, 'bite': 167, 'adventur': 26, 'joy': 916, 'bash': 130, 'hang': 792, 'sheet': 1515, 'radiat': 1352, 'reccomend': 1370, 'misl': 1072, 'pay': 1226, 'truli': 1824, 'walk': 1892, 'pervas': 1243, 'fruiti': 706, 'toddler': 1787, 'curli': 411, 'highlight': 827, 'shape': 1509, 'soapi': 1575, 'toll': 1792, 'moment': 1087, 'rare': 1355, 'ethic': 573, 'player': 1266, 'mile': 1061, 'hr': 854, 'sedentari': 1488, 'tendenc': 1746, 'pull': 1333, 'discreet': 494, 'protector': 1329, 'swatch': 1716, 'conceal': 348, 'faint': 611, 'slightest': 1546, 'niggl': 1140, 'remark': 1398, 'specifi': 1609, 'advis': 29, 'conclus': 352, 'floweri': 664, 'lure': 1003, 'entic': 564, 'squint': 1629, 'drawback': 515, 'suppli': 1706, 'carton': 257, 'brainer': 202, 'pop': 1285, 'press': 1307, 'goo': 752, 'shadow': 1504, 'appropri': 85, 'eyelin': 600, 'error': 569, 'spars': 1607, 'bud': 224, 'aaaaamaz': 1, 'tattoooo': 1736, 'unus': 1856, 'adult': 24, 'belov': 151, 'pet': 1244, 'toilet': 1789, 'domesto': 504, 'aaaaaaaaamaz': 0, 'rsi': 1440, 'girli': 731, 'seal': 1483, 'sport': 1621, 'mad': 1010, 'suddenli': 1689, 'surfac': 1711, 'bo': 181, 'beater': 142, 'homemad': 838, 'travel': 1810, 'pic': 1252, 'deni': 456, 'sainsburi': 1451, 'cheddar': 279, 'scrummi': 1480, 'smellllllll': 1561, 'cystic': 417, 'shelf': 1516, 'sauna': 1464, 'outstand': 1192, 'turkey': 1829, 'shake': 1505, 'graviti': 765, 'bovril': 199, 'film': 645, 'teeth': 1742, 'cent': 264, 'consider': 361, 'dinner': 486, 'parti': 1215, 'everybodi': 577, 'moan': 1080, 'excess': 585, 'date': 426, 'emigr': 554, 'curl': 410, 'decidedli': 434, 'raspberri': 1357, 'newsweek': 1136, 'juic': 917, 'haha': 785, 'substitut': 1683, 'hi': 823, 'uk': 1834, 'anywher': 74, 'petrolatum': 1246, 'damp': 422, 'tesco': 1750, 'microwav': 1059, 'popular': 1286, 'hidden': 824, 'die': 478, 'em': 553, 'softner': 1581, 'persist': 1239, 'capful': 246, 'common': 336, 'prime': 1313, 'hellman': 817, 'surf': 1710, 'tropic': 1821, 'mud': 1107, 'spag': 1604, 'bol': 185, 'attent': 103, 'lingeri': 975, 'silk': 1528, 'fiber': 640, 'slipperi': 1551, 'exempt': 587, 'alth': 56, 'insread': 893, 'toxic': 1805, 'dud': 528, 'plainli': 1263, 'bold': 186, 'grudg': 777, 'dirti': 488, 'groceri': 772, 'budget': 225, 'cake': 239, 'exot': 589, 'veget': 1872, 'ariel': 88, 'fairi': 613, 'global': 740, 'giant': 727, 'expert': 593, 'dodgi': 501, 'imit': 870, 'sub': 1678, 'guarante': 779, 'rubberi': 1442, 'gossam': 756, 'coat': 323, 'brightli': 209, 'compart': 341, 'funki': 711, 'purpl': 1339, 'grey': 771, 'swirl': 1722, 'gu': 778, 'grade': 759, 'mysteri': 1113, 'sphinx': 1615, 'giza': 733, 'bermuda': 155, 'triangl': 1817, 'voynich': 1888, 'manuscript': 1025, 'eater': 537, 'reliev': 1396, 'final': 647, 'handwash': 791, 'underwear': 1843, 'trend': 1812, 'straightaway': 1657, 'street': 1664, 'hellmann': 818, 'opinion': 1179, 'ador': 23, 'verri': 1878, 'artif': 95, 'simpli': 1532, 'exact': 582, 'costco': 383, 'curiou': 409, 'baffl': 120, 'lash': 938, 'eyebrow': 599, 'boost': 191, 'sooo': 1595, 'starter': 1638, 'newborn': 1134, 'solero': 1584, 'morrison': 1095, 'salad': 1452, 'bake': 122, 'bean': 140}\n"
     ]
    }
   ],
   "source": [
    "count_vectorizer  = CountVectorizer(stop_words='english')\n",
    "count_vectorizer.fit(X_train)\n",
    "print('\\nVocabulary: \\n', count_vectorizer.vocabulary_)\n",
    "\n",
    "train_c = count_vectorizer.fit_transform(X_train)\n",
    "test_c = count_vectorizer.transform(X_test)"
   ]
  },
  {
   "cell_type": "markdown",
   "metadata": {},
   "source": [
    "### Multinomial Naive Bayes model"
   ]
  },
  {
   "cell_type": "code",
   "execution_count": 116,
   "metadata": {},
   "outputs": [],
   "source": [
    "#IMPLEMENTING AND RUNNNING MNB MODEL - COUNT\n",
    "mnb1 = MultinomialNB()\n",
    "mnb1.fit(train_c, y_train)\n",
    "prediction = mnb1.predict(test_c)"
   ]
  },
  {
   "cell_type": "code",
   "execution_count": 117,
   "metadata": {},
   "outputs": [],
   "source": [
    "#EVALUATION\n",
    "mnb_a1 = accuracy_score(y_test, prediction)*100\n",
    "mnb_p1 = precision_score(y_test, prediction)* 100\n",
    "mnb_r1 = recall_score(y_test, prediction)*100\n",
    "mnb_f11 = f1_score(y_test, prediction)*100"
   ]
  },
  {
   "cell_type": "code",
   "execution_count": 118,
   "metadata": {},
   "outputs": [
    {
     "data": {
      "text/plain": [
       "<sklearn.metrics._plot.confusion_matrix.ConfusionMatrixDisplay at 0x29f0d2c83d0>"
      ]
     },
     "execution_count": 118,
     "metadata": {},
     "output_type": "execute_result"
    },
    {
     "data": {
      "image/png": "[encoded data removed]",
      "text/plain": [
       "<Figure size 640x480 with 2 Axes>"
      ]
     },
     "metadata": {},
     "output_type": "display_data"
    }
   ],
   "source": [
    "#CONFUSION MATRIX\n",
    "cm =  confusion_matrix(y_test, prediction, labels=mnb1.classes_)\n",
    "display = ConfusionMatrixDisplay(confusion_matrix=cm,\n",
    "                              display_labels=mnb1.classes_) \n",
    "display.plot() "
   ]
  },
  {
   "cell_type": "markdown",
   "metadata": {},
   "source": [
    "### Support Vector Machine model"
   ]
  },
  {
   "cell_type": "code",
   "execution_count": 119,
   "metadata": {},
   "outputs": [],
   "source": [
    "#IMPLEMENTING AND RUNNNING SVM MODEL - COUNT\n",
    "svm1 = SVC(kernel='linear')\n",
    "svm1.fit(train_c, y_train)\n",
    "prediction = svm1.predict(test_c)"
   ]
  },
  {
   "cell_type": "code",
   "execution_count": 120,
   "metadata": {},
   "outputs": [],
   "source": [
    "#EVALUATION\n",
    "svm_a1 = accuracy_score(y_test, prediction)*100\n",
    "svm_p1 = precision_score(y_test, prediction)* 100\n",
    "svm_r1 = recall_score(y_test, prediction)*100\n",
    "svm_f11 = f1_score(y_test, prediction)*100"
   ]
  },
  {
   "cell_type": "code",
   "execution_count": 121,
   "metadata": {},
   "outputs": [
    {
     "data": {
      "text/plain": [
       "<sklearn.metrics._plot.confusion_matrix.ConfusionMatrixDisplay at 0x29f07c0e6d0>"
      ]
     },
     "execution_count": 121,
     "metadata": {},
     "output_type": "execute_result"
    },
    {
     "data": {
      "image/png": "[encoded data removed]",
      "text/plain": [
       "<Figure size 640x480 with 2 Axes>"
      ]
     },
     "metadata": {},
     "output_type": "display_data"
    }
   ],
   "source": [
    "#CONFUSION MATRIX\n",
    "cm =  confusion_matrix(y_test, prediction, labels=svm1.classes_)\n",
    "display = ConfusionMatrixDisplay(confusion_matrix=cm,\n",
    "                              display_labels=svm1.classes_) \n",
    "display.plot() "
   ]
  },
  {
   "cell_type": "markdown",
   "metadata": {},
   "source": [
    "### Logistic Regression model"
   ]
  },
  {
   "cell_type": "code",
   "execution_count": 122,
   "metadata": {},
   "outputs": [],
   "source": [
    "#IMPLEMENTING AND RUNNNING LR MODEL - COUNT\n",
    "lr1 = LogisticRegression()\n",
    "lr1.fit(train_c, y_train)\n",
    "prediction = lr1.predict(test_c)"
   ]
  },
  {
   "cell_type": "code",
   "execution_count": 123,
   "metadata": {},
   "outputs": [],
   "source": [
    "#EVALUATION\n",
    "lr_a1 = accuracy_score(y_test, prediction)*100\n",
    "lr_p1 = precision_score(y_test, prediction)* 100\n",
    "lr_r1 = recall_score(y_test, prediction)*100\n",
    "lr_f11 = f1_score(y_test, prediction)*100"
   ]
  },
  {
   "cell_type": "code",
   "execution_count": 124,
   "metadata": {},
   "outputs": [
    {
     "data": {
      "text/plain": [
       "<sklearn.metrics._plot.confusion_matrix.ConfusionMatrixDisplay at 0x29f07a69790>"
      ]
     },
     "execution_count": 124,
     "metadata": {},
     "output_type": "execute_result"
    },
    {
     "data": {
      "image/png": "[encoded data removed]",
      "text/plain": [
       "<Figure size 640x480 with 2 Axes>"
      ]
     },
     "metadata": {},
     "output_type": "display_data"
    }
   ],
   "source": [
    "#CONFUSION MATRIX\n",
    "cm =  confusion_matrix(y_test, prediction, labels=lr1.classes_)\n",
    "display = ConfusionMatrixDisplay(confusion_matrix=cm,\n",
    "                              display_labels=lr1.classes_) \n",
    "display.plot() "
   ]
  },
  {
   "cell_type": "markdown",
   "metadata": {},
   "source": [
    "## TFIDF VECTORIZER AND MODELING\n",
    "\n",
    "We examine the total document weightage of a word in TfidfVectorizer. It assists us in coping with the most common terms. We may use it to penalize them. The word counts are weighted by a measure of how frequently they appear in the documents in TfidfVectorizer."
   ]
  },
  {
   "cell_type": "code",
   "execution_count": 125,
   "metadata": {},
   "outputs": [
    {
     "name": "stdout",
     "output_type": "stream",
     "text": [
      "\n",
      "Vocabulary: \n",
      " {'sure': 1709, 'big': 159, 'jar': 912, 'cost': 382, 'doubl': 509, 'size': 1540, 'normal': 1148, 'buy': 236, 'persil': 1238, 'colour': 329, 'powder': 1297, 'unavail': 1836, 'decid': 433, 'tri': 1815, 'impress': 877, 'got': 757, 'wash': 1896, 'reason': 1368, 'clean': 310, 'remov': 1401, 'stain': 1632, 'babi': 116, 'nappi': 1116, 'cream': 395, 'smell': 1559, 'unpleas': 1850, 'overpow': 1200, 'extra': 595, 'rins': 1427, 'fabric': 603, 'condition': 355, 'need': 1127, 'tab': 1724, 'cloth': 320, 'dri': 520, 'cardboard': 253, 'hard': 796, 'creas': 397, 'bodi': 183, 'deodor': 458, 'love': 995, 'great': 767, 'valu': 1862, 'money': 1089, 'reviv': 1419, 'week': 1911, 'ago': 39, 'usual': 1861, 'complet': 345, 'differ': 480, 'make': 1016, 'wipe': 1932, 'fallen': 617, 'deffinalti': 439, 'purchas': 1336, 'sensit': 1495, 'issu': 907, 'struggl': 1672, 'fond': 673, 'leav': 952, 'reaction': 1361, 'face': 605, 'review': 1418, 'collect': 327, 'promot': 1322, 'pack': 1203, 'lynx': 1008, 'shower': 1524, 'gel': 720, 'decent': 432, 'larg': 936, 'good': 753, 'stuff': 1676, 'happi': 794, 'current': 412, 'sell': 1490, 'price': 1312, 'compar': 339, 'supermarket': 1704, 'pleasant': 1268, 'add': 17, 'small': 1554, 'fresh': 696, 'suffer': 1690, 'mild': 1060, 'ezyema': 601, 'alway': 57, 'care': 255, 'skincar': 1541, 'prefer': 1302, 'brand': 203, 'nasti': 1118, 'fan': 620, 'simpl': 1531, 'moisturis': 1086, 'switch': 1723, 'kind': 924, 'notic': 1152, 'radiant': 1351, 'left': 953, 'feel': 634, 'light': 963, 'refresh': 1383, 'non': 1145, 'perfum': 1233, 'best': 157, 'cleans': 312, 'everi': 576, 'day': 428, 'cleanser': 313, 'introduc': 900, 'regim': 1386, 'afford': 31, 'rang': 1353, 'pour': 1295, 'smaller': 1555, 'bottl': 196, 'manag': 1020, 'beat': 141, 'nice': 1137, 'deliveri': 454, 'fit': 653, 'purpos': 1340, 'bought': 197, 'month': 1090, 'stop': 1651, 'suggest': 1693, 'stay': 1641, 'continu': 368, 'gentl': 723, 'think': 1762, 'ordinari': 1185, 'packag': 1204, 'exfoli': 588, 'quit': 1349, 'actual': 15, 'mean': 1044, 'year': 1962, 'comment': 334, 'linger': 974, 'fragranc': 692, 'like': 967, 'chemic': 283, 'job': 914, 'soften': 1579, 'chang': 271, 'run': 1445, 'star': 1636, 'consist': 362, 'amazon': 61, 'fluctuat': 665, 'mani': 1022, 'particulr': 1218, 'item': 910, 'watch': 1902, 'easili': 534, 'shop': 1522, 'stock': 1650, 'brilliant': 211, 'offer': 1168, 'gorgeou': 755, 'comfort': 332, 'hous': 851, 'bigger': 160, 'regular': 1388, 'basi': 131, 'special': 1608, 'includ': 881, 'soft': 1578, 'smooth': 1564, 'squeaki': 1626, 'downsid': 511, 'crave': 393, 'bad': 118, 'pregnanc': 1303, 'physic': 1251, 'eat': 535, 'time': 1778, 'favourit': 628, 'smelt': 1562, 'anyth': 72, 'long': 987, 'custom': 414, 'look': 990, 'super': 1701, 'moistur': 1085, 'nightli': 1142, 'treat': 1811, 'perfect': 1230, 'appli': 80, 'spong': 1620, 'warm': 1894, 'recommend': 1376, 'everyon': 579, 'bath': 136, 'toner': 1794, 'realli': 1366, 'sooth': 1596, 'forward': 689, 'lot': 993, 'definit': 446, 'order': 1184, 'arriv': 92, 'promis': 1321, 'peopl': 1229, 'forget': 680, 'posit': 1289, 'feedback': 633, 'quick': 1346, 'neg': 1128, 'point': 1279, 'describ': 467, 'servic': 1500, 'thank': 1754, 'free': 695, 'absolut': 4, 'hope': 844, 'limit': 971, 'edit': 543, 'end': 557, 'stayer': 1642, 'monthli': 1091, 'let': 957, 'mark': 1027, 'break': 204, 'howev': 853, 'littl': 981, 'goe': 748, 'way': 1906, 'ask': 99, 'intens': 898, 'liquid': 978, 'fuchsia': 707, 'passion': 1221, 'ml': 1078, 'said': 1450, 'ye': 1961, 'outsid': 1191, 'warn': 1895, 'ultra': 1835, 'concentr': 349, 'recycl': 1378, 'plastic': 1265, 'addit': 18, 'compani': 338, 'state': 1639, 'save': 1465, 'releas': 1392, 'wast': 1899, 'greenhous': 769, 'gase': 718, 'blue': 180, 'sky': 1542, 'winner': 1930, 'want': 1893, 'help': 820, 'environ': 566, 'pod': 1278, 'subtl': 1684, 'aroma': 91, 'smoothli': 1567, 'dont': 506, 'drench': 518, 'lotion': 994, 'hand': 788, 'bit': 166, 'expens': 591, 'pretti': 1308, 'worth': 1948, 'outer': 1190, 'layer': 947, 'cover': 390, 'becom': 145, 'sticki': 1645, 'stick': 1644, 'excel': 584, 'qualiti': 1341, 'rapid': 1354, 'irrit': 905, 'red': 1379, 'blemish': 174, 'hair': 786, 'static': 1640, 'spill': 1617, 'everywher': 581, 'box': 200, 'pleas': 1267, 'tell': 1743, 'drop': 524, 'came': 241, 'shaken': 1506, 'lid': 959, 'tidi': 1772, 'disgust': 496, 'contact': 365, 'ok': 1173, 'terribl': 1749, 'strong': 1670, 'soap': 1574, 'basic': 132, 'harm': 798, 'nourish': 1153, 'open': 1178, 'snap': 1570, 'broken': 217, 'leak': 951, 'half': 787, 'cheap': 275, 'cheer': 281, 'makeup': 1018, 'eas': 531, 'micellar': 1058, 'water': 1903, 'say': 1467, 'impresss': 878, 'content': 367, 'aw': 112, 'cut': 415, 'right': 1426, 'fingernail': 649, 'turn': 1830, 'upsid': 1858, 'approach': 84, 'empti': 556, 'ridicul': 1425, 'design': 469, 'divin': 499, 'veey': 1869, 'crafti': 392, 'phenomen': 1247, 'age': 36, 'extrem': 596, 'function': 710, 'measur': 1046, 'cap': 244, 'live': 982, 'hype': 861, 'clearli': 316, 'lead': 949, 'market': 1028, 'leader': 950, 'softer': 1580, 'inspir': 892, 'confid': 357, 'person': 1240, 'towel': 1803, 'certainli': 267, 'better': 158, 'cheaper': 276, 'work': 1943, 'harsh': 800, 'strike': 1667, 'balanc': 123, 'wife': 1927, 'complain': 343, 'difficult': 481, 'accur': 11, 'probabl': 1316, 'slurp': 1553, 'reckon': 1375, 'fact': 607, 'nearer': 1123, 'suppos': 1708, 'econom': 539, 'cool': 375, 'carri': 256, 'know': 930, 'thing': 1761, 'someth': 1588, 'els': 551, 'manufactur': 1024, 'new': 1133, 'path': 1225, 'anoth': 68, 'green': 768, 'famili': 619, 'enjoy': 562, 'ice': 862, 'textur': 1753, 'plenti': 1272, 'chocol': 292, 'fish': 652, 'sweet': 1720, 'scent': 1472, 'young': 1967, 'old': 1175, 'friendli': 701, 'honestli': 840, 'problemat': 1318, 'prone': 1324, 'dermat': 463, 'bio': 163, 'unclog': 1839, 'pore': 1287, 'defiantli': 440, 'term': 1748, 'greasi': 766, 'receiv': 1372, 'rd': 1359, 'fantast': 622, 'gloopi': 741, 'sink': 1537, 'quickli': 1348, 'heavi': 814, 'combin': 330, 'ideal': 866, 'hour': 850, 'wear': 1908, 'total': 1800, 'sometim': 1589, 'creami': 396, 'short': 1523, 'period': 1235, 'sunk': 1700, 'wrinkl': 1954, 'perform': 1232, 'miracl': 1070, 'prevent': 1309, 'effect': 544, 'heat': 813, 'sun': 1698, 'recent': 1373, 'true': 1823, 'soon': 1593, 'protect': 1328, 'plain': 1262, 'noth': 1150, 'huge': 856, 'perhap': 1234, 'english': 561, 'mustard': 1112, 'far': 623, 'polish': 1280, 'kid': 923, 'spend': 1612, 'pot': 1292, 'noodl': 1146, 'flavour': 659, 'larger': 937, 'averag': 111, 'bargain': 127, 'tast': 1734, 'depth': 462, 'meal': 1043, 'importantli': 875, 'gluten': 745, 'especi': 571, 'mr': 1105, 'poor': 1283, 'mostli': 1098, 'simplic': 1533, 'contain': 366, 'foam': 669, 'hydrat': 860, 'handi': 789, 'bulk': 227, 'worri': 1945, 'regularli': 1389, 'slow': 1552, 'cook': 374, 'wake': 1891, 'morn': 1094, 'cold': 326, 'winter': 1931, 'children': 288, 'tasti': 1735, 'summer': 1697, 'indoor': 886, 'local': 984, 'men': 1052, 'wrong': 1957, 'paid': 1207, 'bargin': 128, 'deliv': 453, 'shampoo': 1508, 'tini': 1781, 'anymor': 70, 'line': 972, 'thought': 1767, 'fake': 615, 'similar': 1530, 'africa': 33, 'poorer': 1284, 'sinc': 1535, 'label': 932, 'fab': 602, 'deal': 431, 'browni': 221, 'round': 1437, 'instead': 895, 'slightli': 1547, 'thicker': 1760, 'consid': 360, 'hold': 834, 'flat': 657, 'previou': 1310, 'formula': 686, 'streaki': 1662, 'orang': 1183, 'streak': 1661, 'search': 1484, 'easi': 532, 'waterproof': 1904, 'mascara': 1032, 'anyon': 71, 'oreal': 1186, 'believ': 149, 'massiv': 1035, 'benefit': 154, 'chose': 297, 'incred': 884, 'inch': 880, 'felt': 637, 'fast': 624, 'bare': 126, 'longer': 988, 'compact': 337, 'iron': 904, 'past': 1222, 'tear': 1739, 'penni': 1228, 'scale': 1468, 'away': 114, 'highli': 826, 'absorb': 6, 'oili': 1172, 'stand': 1633, 'yummi': 1970, 'suit': 1694, 'delici': 451, 'sugari': 1692, 'amaz': 58, 'exactli': 583, 'tone': 1793, 'cotton': 384, 'wool': 1941, 'rub': 1441, 'daili': 419, 'chsnge': 300, 'ther': 1756, 'pure': 1337, 'whatsoev': 1919, 'unprofession': 1851, 'pale': 1209, 'medium': 1049, 'dark': 425, 'dove': 510, 'tan': 1731, 'row': 1439, 'twice': 1831, 'weekli': 1913, 'gentli': 724, 'till': 1777, 'bin': 162, 'alot': 52, 'wet': 1918, 'immedi': 871, 'claim': 306, 'clear': 314, 'remain': 1397, 'night': 1141, 'serum': 1498, 'contribut': 369, 'cleaner': 311, 'finish': 650, 'act': 14, 'reli': 1393, 'everyth': 580, 'problem': 1317, 'itch': 908, 'itchi': 909, 'applic': 81, 'smoothest': 1566, 'routin': 1438, 'dilut': 485, 'sever': 1502, 'damag': 421, 'fluffi': 667, 'alreadi': 54, 'step': 1643, 'dad': 418, 'solid': 1585, 'easier': 533, 'place': 1261, 'minut': 1069, 'facial': 606, 'choos': 296, 'read': 1362, 'correctli': 380, 'litr': 980, 'quantiti': 1342, 'lt': 999, 'crazi': 394, 'shave': 1514, 'excit': 586, 'react': 1360, 'dairi': 420, 'cone': 356, 'near': 1122, 'cornetto': 378, 'calori': 240, 'choc': 290, 'lump': 1001, 'second': 1486, 'pl': 1260, 'honest': 839, 'upset': 1857, 'temperament': 1744, 'lazi': 948, 'girl': 730, 'solut': 1586, 'option': 1182, 'somewher': 1591, 'holiday': 836, 'henc': 821, 'lather': 942, 'stapl': 1635, 'home': 837, 'standard': 1634, 'heal': 809, 'abras': 3, 'boy': 201, 'store': 1654, 'cupboard': 408, 'dead': 430, 'lip': 977, 'vaselin': 1867, 'therapi': 1757, 'origin': 1188, 'mini': 1065, 'late': 939, 'afternoon': 34, 'everyday': 578, 'result': 1413, 'type': 1832, 'met': 1056, 'fed': 631, 'mess': 1054, 'machin': 1009, 'drawer': 516, 'load': 983, 'space': 1603, 'laundri': 944, 'known': 931, 'subscrib': 1680, 'power': 1299, 'residu': 1409, 'drum': 525, 'come': 331, 'refil': 1382, 'question': 1345, 'plu': 1273, 'bleach': 173, 'happen': 793, 'occasion': 1163, 'stuck': 1674, 'properli': 1326, 'start': 1637, 'alongsid': 51, 'sustain': 1714, 'glow': 742, 'palm': 1210, 'nail': 1115, 'thoroughli': 1766, 'piec': 1257, 'lucki': 1000, 'complaint': 344, 'magnum': 1013, 'hunk': 858, 'whirl': 1924, 'friend': 700, 'hardli': 797, 'expect': 590, 'allow': 47, 'serv': 1499, 'unless': 1847, 'avail': 110, 'base': 129, 'smallest': 1556, 'worthwhil': 1949, 'promptli': 1323, 'cup': 407, 'tea': 1738, 'man': 1019, 'lunch': 1002, 'conveni': 371, 'gone': 751, 'imagin': 869, 'king': 925, 'gram': 761, 'overal': 1194, 'today': 1786, 'mother': 1102, 'ban': 124, 'sneaki': 1571, 'woke': 1935, 'tacki': 1726, 'natur': 1120, 'healthi': 811, 'isnt': 906, 'cloy': 321, 'rememb': 1399, 'chicken': 286, 'mushroom': 1111, 'pie': 1256, 'filler': 644, 'ad': 16, 'salt': 1454, 'ruin': 1444, 'chuck': 301, 'tongu': 1796, 'miss': 1074, 'season': 1485, 'accident': 10, 'swallow': 1715, 'sea': 1482, 'kcal': 918, 'soup': 1601, 'control': 370, 'diet': 479, 'im': 868, 'vegan': 1871, 'milk': 1062, 'artifici': 96, 'beauti': 143, 'mayb': 1040, 'cashmer': 259, 'sweater': 1719, 'white': 1925, 'gold': 749, 'spring': 1625, 'matter': 1038, 'cardigan': 254, 'thirti': 1764, 'degre': 449, 'tie': 1773, 'boil': 184, 'bikini': 161, 'dedic': 435, 'ylang': 1964, 'hit': 831, 'town': 1804, 'ms': 1106, 'burnt': 233, 'fron': 703, 'bladder': 170, 'weak': 1907, 'oil': 1171, 'glam': 735, 'glue': 744, 'slip': 1550, 'silki': 1529, 'scenti': 1473, 'version': 1880, 'cucumb': 405, 'deep': 436, 'mostur': 1099, 'definetli': 445, 'mostureris': 1100, 'pouch': 1293, 'brown': 220, 'safe': 1449, 'capsul': 247, 'wat': 1901, 'spent': 1613, 'disappoint': 490, 'pictur': 1255, 'mislead': 1073, 'tight': 1774, 'caus': 262, 'grandchildren': 763, 'lolli': 986, 'unfortun': 1844, 'sold': 1583, 'packet': 1205, 'lime': 969, 'weird': 1915, 'hot': 849, 'tough': 1802, 'mix': 1077, 'fork': 682, 'strang': 1659, 'curri': 413, 'brill': 210, 'snack': 1569, 'anytim': 73, 'prepar': 1305, 'awesom': 115, 'fraction': 691, 'previous': 1311, 'produc': 1320, 'admir': 21, 'blast': 172, 'whiff': 1922, 'planet': 1264, 'pollut': 1281, 'win': 1928, 'number': 1156, 'bonu': 190, 'door': 507, 'odourless': 1165, 'hint': 830, 'whilst': 1923, 'glide': 739, 'unscrew': 1853, 'coupl': 388, 'household': 852, 'allerg': 45, 'constant': 363, 'hay': 805, 'fever': 639, 'dessert': 472, 'mint': 1068, 'nicest': 1138, 'mmmm': 1079, 'newer': 1135, 'student': 1675, 'yuck': 1969, 'sauc': 1463, 'pasta': 1223, 'carboard': 250, 'situat': 1539, 'access': 9, 'kettl': 920, 'mugshot': 1108, 'mistak': 1075, 'eczema': 542, 'allergi': 46, 'fail': 610, 'liter': 979, 'broke': 216, 'bump': 228, 'shame': 1507, 'admit': 22, 'shini': 1520, 'wonder': 1937, 'pink': 1258, 'dramat': 514, 'someon': 1587, 'explain': 594, 'freshen': 697, 'mostiris': 1097, 'took': 1798, 'proof': 1325, 'set': 1501, 'spray': 1623, 'genuin': 725, 'consciou': 359, 'risotto': 1429, 'gift': 728, 'requir': 1408, 'multi': 1109, 'subscript': 1681, 'squeez': 1627, 'puff': 1332, 'froth': 704, 'gym': 783, 'bag': 121, 'overwhelm': 1201, 'alon': 50, 'rush': 1447, 'colman': 328, 'sunday': 1699, 'roast': 1430, 'tube': 1827, 'invari': 901, 'inferior': 888, 'nozzl': 1155, 'block': 176, 'surpris': 1712, 'massag': 1034, 'spot': 1622, 'disappear': 489, 'smoother': 1565, 'neutral': 1132, 'floor': 661, 'extremli': 597, 'doesnt': 502, 'frangranc': 694, 'fairli': 614, 'spread': 1624, 'soak': 1573, 'realis': 1365, 'hate': 802, 'area': 87, 'scalp': 1470, 'husband': 859, 'satisfi': 1462, 'creation': 399, 'close': 319, 'match': 1036, 'honeysuckl': 842, 'sandalwood': 1459, 'descript': 468, 'luvli': 1006, 'check': 278, 'bathroom': 137, 'variou': 1866, 'cif': 303, 'shine': 1519, 'tile': 1776, 'ceram': 265, 'mirror': 1071, 'practic': 1300, 'straighten': 1658, 'tub': 1826, 'chunk': 302, 'marshmallow': 1030, 'caramel': 249, 'rate': 1358, 'micel': 1057, 'regret': 1387, 'feed': 632, 'event': 574, 'absoulut': 7, 'pump': 1334, 'separ': 1497, 'clog': 318, 'fix': 654, 'loyalti': 998, 'sooner': 1594, 'relax': 1391, 'eco': 538, 'parcel': 1214, 'sore': 1598, 'convert': 372, 'tin': 1779, 'thankyou': 1755, 'charg': 274, 'overbear': 1195, 'individu': 885, 'tend': 1745, 'dandruff': 424, 'anti': 69, 'firstli': 651, 'lightweight': 966, 'dress': 519, 'straight': 1656, 'amazingli': 59, 'biolog': 165, 'deterg': 474, 'gener': 721, 'soil': 1582, 'older': 1176, 'pound': 1294, 'dermatolog': 464, 'test': 1751, 'endors': 558, 'british': 214, 'foundat': 690, 'develop': 476, 'condit': 354, 'forev': 679, 'blackhead': 169, 'zone': 1972, 'nose': 1149, 'despit': 471, 'vanilla': 1863, 'yogurt': 1966, 'alpro': 53, 'blop': 177, 'breakout': 205, 'clearer': 315, 'glowi': 743, 'besid': 156, 'bed': 146, 'whenev': 1920, 'effort': 546, 'cornet': 377, 'fair': 612, 'eye': 598, 'lili': 968, 'ladi': 933, 'burn': 232, 'crisp': 401, 'uncov': 1841, 'return': 1416, 'went': 1916, 'med': 1047, 'arm': 90, 'sparingli': 1606, 'didnt': 477, 'defin': 442, 'liber': 958, 'leg': 954, 'sassi': 1461, 'bod': 182, 'sit': 1538, 'bronz': 218, 'slight': 1545, 'hook': 843, 'stope': 1652, 'otherwis': 1189, 'bother': 195, 'attract': 104, 'dozen': 512, 'bomb': 187, 'ingredi': 889, 'melt': 1050, 'togeth': 1788, 'gross': 773, 'gon': 750, 'na': 1114, 'throw': 1769, 'coca': 324, 'butter': 235, 'marmit': 1029, 'lover': 997, 'glass': 737, 'xlarg': 1959, 'discontinu': 492, 'horribl': 846, 'gave': 719, 'rash': 1356, 'sharp': 1512, 'begin': 148, 'assum': 101, 'grow': 775, 'ocado': 1161, 'sampl': 1456, 'readi': 1363, 'fight': 642, 'tire': 1783, 'drawn': 517, 'child': 287, 'alcohol': 43, 'suitabl': 1695, 'wide': 1926, 'awak': 113, 'smelli': 1560, 'pit': 1259, 'retain': 1415, 'maker': 1017, 'concept': 350, 'recal': 1369, 'tetra': 1752, 'public': 1331, 'innov': 891, 'sleev': 1544, 'style': 1677, 'fulli': 708, 'glad': 734, 'dose': 508, 'counter': 386, 'fine': 648, 'print': 1314, 'wrapper': 1953, 'magnif': 1012, 'anim': 63, 'food': 674, 'import': 874, 'provid': 1330, 'headquart': 808, 'offic': 1169, 'countri': 387, 'sale': 1453, 'reduc': 1380, 'carbon': 251, 'footprint': 676, 'torn': 1799, 'yo': 1965, 'born': 194, 'defient': 441, 'suppl': 1705, 'replenish': 1405, 'daytim': 429, 'reappli': 1367, 'overnight': 1199, 'unscent': 1852, 'patch': 1224, 'tbh': 1737, 'remind': 1400, 'loo': 989, 'claw': 308, 'saw': 1466, 'accept': 8, 'nation': 1119, 'associ': 100, 'toler': 1791, 'fifth': 641, 'swell': 1721, 'wrap': 1952, 'daughter': 427, 'persuad': 1242, 'hesit': 822, 'august': 105, 'wow': 1951, 'stream': 1663, 'picki': 1254, 'tonn': 1797, 'teen': 1740, 'delight': 452, 'stinki': 1649, 'fortun': 688, 'featur': 630, 'flare': 656, 'clip': 317, 'instantli': 894, 'sensat': 1494, 'unlik': 1848, 'particularli': 1217, 'freshli': 698, 'definatli': 443, 'obviou': 1159, 'sweat': 1718, 'repair': 1403, 'choic': 295, 'paragon': 1213, 'champ': 270, 'main': 1015, 'abl': 2, 'singl': 1536, 'stubborn': 1673, 'bat': 133, 'wing': 1929, 'boot': 193, 'tame': 1730, 'quench': 1344, 'fell': 636, 'mayonnais': 1042, 'substanc': 1682, 'squeezi': 1628, 'geniu': 722, 'idea': 865, 'tall': 1729, 'unstabl': 1854, 'ive': 911, 'fridg': 699, 'tumbl': 1828, 'brittl': 215, 'shatter': 1513, 'kitchen': 927, 'groundhog': 774, 'imposs': 876, 'cri': 400, 'overhaul': 1197, 'oz': 1202, 'csmart': 403, 'screw': 1478, 'determin': 475, 'loos': 991, 'entir': 565, 'knife': 929, 'word': 1942, 'wise': 1933, 'advoid': 30, 'smart': 1557, 'son': 1592, 'visit': 1884, 'certifi': 268, 'launder': 943, 'monday': 1088, 'heavili': 815, 'mistreat': 1076, 'superb': 1702, 'neck': 1126, 'amazinng': 60, 'health': 810, 'youth': 1968, 'ill': 867, 'pun': 1335, 'intend': 897, 'altern': 55, 'forth': 687, 'healthier': 812, 'form': 683, 'advic': 28, 'minimum': 1066, 'write': 1956, 'rubbish': 1443, 'annoy': 66, 'asid': 98, 'runni': 1446, 'plug': 1274, 'hole': 835, 'concern': 351, 'manli': 1023, 'foami': 670, 'unbeliev': 1837, 'compliment': 347, 'pantri': 1211, 'lamin': 934, 'rid': 1424, 'organ': 1187, 'cosmet': 381, 'high': 825, 'tag': 1727, 'sl': 1543, 'agent': 37, 'creat': 398, 'rich': 1422, 'matur': 1039, 'delic': 450, 'sodium': 1577, 'laureth': 945, 'sulfat': 1696, 'lauryl': 946, 'paraben': 1212, 'tip': 1782, 'weekend': 1912, 'brought': 219, 'sting': 1647, 'brilliantli': 212, 'strict': 1666, 'vegetarian': 1873, 'wernt': 1917, 'veggi': 1874, 'eager': 530, 'worst': 1947, 'flaki': 655, 'elimin': 550, 'ankl': 65, 'bundl': 230, 'desper': 470, 'veg': 1870, 'cube': 404, 'batch': 134, 'bland': 171, 'recipebut': 1374, 'elsewher': 552, 'batgain': 135, 'portion': 1288, 'diliveri': 484, 'hav': 803, 'btilliant': 222, 'classic': 307, 'effici': 545, 'linen': 973, 'pre': 1301, 'defo': 447, 'direct': 487, 'pleasantli': 1269, 'alo': 48, 'vera': 1875, 'partner': 1219, 'sadli': 1448, 'share': 1510, 'drip': 523, 'discov': 493, 'usag': 1859, 'shimmeri': 1518, 'articl': 94, 'acn': 13, 'scar': 1471, 'opposit': 1181, 'life': 961, 'visibl': 1883, 'fade': 609, 'dermatologist': 465, 'game': 716, 'changer': 272, 'improv': 879, 'vastli': 1868, 'perfectli': 1231, 'sorri': 1599, 'voucher': 1887, 'post': 1291, 'slimi': 1549, 'unhappi': 1845, 'respons': 1411, 'count': 385, 'deoder': 457, 'christma': 298, 'dryness': 527, 'cult': 406, 'repurchas': 1407, 'blend': 175, 'nope': 1147, 'rest': 1412, 'wondr': 1938, 'luxuri': 1007, 'kept': 919, 'weight': 1914, 'becam': 144, 'obsess': 1158, 'pool': 1282, 'room': 1431, 'luv': 1005, 'stabl': 1631, 'aswel': 102, 'maid': 1014, 'ect': 541, 'trick': 1818, 'gmo': 746, 'appeal': 78, 'trace': 1806, 'gooey': 754, 'marshmallowey': 1031, 'phish': 1248, 'nephew': 1130, 'revolt': 1420, 'real': 1364, 'understand': 1842, 'mayo': 1041, 'bondi': 188, 'sand': 1457, 'gradual': 760, 'wouldnt': 1950, 'taken': 1728, 'havent': 804, 'figur': 643, 'necess': 1125, 'medicin': 1048, 'cabinet': 238, 'elbow': 548, 'knee': 928, 'fault': 625, 'nutrit': 1157, 'moreish': 1093, 'fli': 660, 'sent': 1496, 'hubbi': 855, 'format': 684, 'sot': 1600, 'wors': 1946, 'incorpor': 883, 'eventu': 575, 'apart': 76, 'margin': 1026, 'st': 1630, 'tropez': 1820, 'shimmer': 1517, 'cell': 263, 'user': 1860, 'harshli': 801, 'case': 258, 'complexion': 346, 'adequ': 20, 'pleasent': 1270, 'spare': 1605, 'rib': 1421, 'hive': 832, 'aggrav': 38, 'view': 1881, 'advanc': 25, 'vitamin': 1886, 'miner': 1064, 'onlin': 1177, 'shark': 1511, 'self': 1489, 'nervou': 1131, 'build': 226, 'thiught': 1765, 'cojld': 325, 'garnier': 717, 'apar': 75, 'stripey': 1669, 'feet': 635, 'stink': 1648, 'fals': 618, 'moral': 1092, 'stori': 1655, 'worn': 1944, 'spici': 1616, 'fear': 629, 'fragrant': 693, 'annoyiji': 67, 'occas': 1162, 'nearli': 1124, 'purifi': 1338, 'plump': 1275, 'spf': 1614, 'repeat': 1404, 'given': 732, 'booster': 192, 'versatil': 1879, 'heel': 816, 'lightli': 965, 'quicker': 1347, 'chronic': 299, 'varieti': 1865, 'chapstick': 273, 'jot': 915, 'iritatw': 903, 'afterward': 35, 'unperfum': 1849, 'vital': 1885, 'bunni': 231, 'rabbit': 1350, 'babysoft': 117, 'stronger': 1671, 'troubl': 1822, 'offend': 1166, 'naturu': 1121, 'rose': 1435, 'petal': 1245, 'send': 1492, 'gland': 736, 'overdr': 1196, 'compel': 342, 'pass': 1220, 'thr': 1768, 'sez': 1503, 'correct': 379, 'later': 940, 'brighter': 208, 'focus': 671, 'moist': 1084, 'arrog': 93, 'unilev': 1846, 'handl': 790, 'forese': 678, 'futur': 715, 'gotten': 758, 'pick': 1253, 'yesterday': 1963, 'woken': 1936, 'horrif': 847, 'headach': 807, 'afraid': 32, 'disturb': 498, 'funni': 712, 'mouth': 1104, 'crispi': 402, 'wont': 1939, 'escap': 570, 'lift': 962, 'relief': 1395, 'effortlessli': 547, 'aim': 41, 'fool': 675, 'lock': 985, 'accustom': 12, 'richer': 1423, 'wait': 1890, 'oddli': 1164, 'unblock': 1838, 'factor': 608, 'commerci': 335, 'toast': 1785, 'chees': 282, 'sandwich': 1460, 'wastag': 1900, 'autoimmun': 108, 'diseas': 495, 'dermatomyos': 466, 'scratch': 1476, 'god': 747, 'dm': 500, 'pregnant': 1304, 'belli': 150, 'obvious': 1160, 'appreci': 82, 'strip': 1668, 'persev': 1237, 'root': 1432, 'drier': 522, 'grown': 776, 'challeng': 269, 'strength': 1665, 'endur': 559, 'helmann': 819, 'risk': 1428, 'bone': 189, 'tendon': 1747, 'guest': 781, 'chocolatey': 293, 'lenor': 955, 'unstopp': 1855, 'agre': 40, 'tighter': 1775, 'forgotten': 681, 'chew': 285, 'rope': 1433, 'school': 1474, 'ha': 784, 'cours': 389, 'lie': 960, 'fanci': 621, 'maskara': 1033, 'seller': 1491, 'reliabl': 1394, 'apprehens': 83, 'target': 1733, 'deodour': 459, 'swear': 1717, 'arkward': 89, 'kick': 922, 'teenag': 1741, 'badeda': 119, 'definetley': 444, 'auto': 107, 'depend': 460, 'lighter': 964, 'touch': 1801, 'stiff': 1646, 'tradit': 1807, 'floral': 662, 'kg': 921, 'approxim': 86, 'black': 168, 'car': 248, 'guess': 780, 'supplier': 1707, 'bring': 213, 'harmoni': 799, 'tissu': 1784, 'rough': 1436, 'pain': 1208, 'pleasur': 1271, 'happili': 795, 'intoler': 899, 'latest': 941, 'variat': 1864, 'address': 19, 'environment': 567, 'transport': 1809, 'commend': 333, 'sens': 1493, 'detect': 473, 'breath': 206, 'deepli': 437, 'zesti': 1971, 'repres': 1406, 'lessen': 956, 'impact': 873, 'albeit': 42, 'anitipersperi': 64, 'superior': 1703, 'wherea': 1921, 'benefici': 153, 'therefor': 1758, 'aliv': 44, 'flavor': 658, 'straw': 1660, 'blow': 179, 'powderi': 1298, 'perspir': 1241, 'absolutelli': 5, 'particular': 1216, 'mosturis': 1101, 'bright': 207, 'deg': 448, 'washer': 1897, 'filter': 646, 'trigger': 1819, 'tablet': 1725, 'invigor': 902, 'ben': 152, 'jerri': 913, 'sickli': 1525, 'chocolati': 294, 'eaten': 536, 'smile': 1563, 'dispens': 497, 'dryer': 526, 'revel': 1417, 'meant': 1045, 'sock': 1576, 'cheapest': 277, 'nother': 1151, 'automat': 109, 'tick': 1771, 'advertis': 27, 'spell': 1611, 'overli': 1198, 'sorbet': 1597, 'biodegrad': 164, 'guy': 782, 'suffici': 1691, 'million': 1063, 'thicken': 1759, 'gravi': 764, 'england': 560, 'weather': 1909, 'expensic': 592, 'inexpens': 887, 'mositur': 1096, 'bar': 125, 'quarter': 1343, 'lose': 992, 'hors': 848, 'link': 976, 'convinc': 373, 'refer': 1381, 'batteri': 138, 'verifi': 1877, 'essenti': 572, 'deluveri': 455, 'novelti': 1154, 'reorder': 1402, 'fabul': 604, 'hike': 828, 'buyer': 237, 'sign': 1526, 'certain': 266, 'disastr': 491, 'success': 1685, 'weed': 1910, 'vinegar': 1882, 'prior': 1315, 'busi': 234, 'mum': 1110, 'neglect': 1129, 'empathis': 555, 'trial': 1816, 'opportun': 1180, 'reconnect': 1377, 'cme': 322, 'smother': 1568, 'offens': 1167, 'bedtim': 147, 'verdict': 1876, 'thumb': 1770, 'cooler': 376, 'wahs': 1889, 'process': 1319, 'frizz': 702, 'lank': 935, 'bounc': 198, 'wish': 1934, 'id': 864, 'consum': 364, 'nightmar': 1143, 'fun': 709, 'fav': 626, 'xxxx': 1960, 'follow': 672, 'instruct': 896, 'default': 438, 'flower': 663, 'fushia': 713, 'condens': 353, 'capabl': 245, 'appar': 77, 'honey': 841, 'suckl': 1686, 'asda': 97, 'perman': 1236, 'cherri': 284, 'blossom': 178, 'pea': 1227, 'sandal': 1458, 'wood': 1940, 'dog': 503, 'hinch': 829, 'scour': 1475, 'pad': 1206, 'minki': 1067, 'oven': 1193, 'hob': 833, 'tap': 1732, 'screen': 1477, 'gleam': 738, 'casserol': 260, 'icecream': 863, 'fussi': 714, 'tresemm': 1813, 'dy': 529, 'tong': 1795, 'wrist': 1955, 'surprisingli': 1713, 'shock': 1521, 'imo': 872, 'drain': 513, 'sniff': 1572, 'bunch': 229, 'subject': 1679, 'rosacea': 1434, 'coz': 391, 'niec': 1139, 'initi': 890, 'tresmemm': 1814, 'salti': 1455, 'lush': 1004, 'moeni': 1083, 'split': 1619, 'inconveni': 882, 'messi': 1055, 'transit': 1808, 'retail': 1414, 'grew': 770, 'member': 1051, 'domin': 505, 'fluid': 668, 'formul': 685, 'photo': 1250, 'appear': 79, 'relat': 1390, 'regardless': 1385, 'materi': 1037, 'loveliest': 996, 'significantli': 1527, 'modest': 1082, 'limescal': 970, 'fruit': 705, 'head': 806, 'hopingthat': 845, 'btw': 223, 'typic': 1833, 'difficulti': 482, 'fall': 616, 'moder': 1081, 'clay': 309, 'scali': 1469, 'sin': 1534, 'somewhat': 1590, 'feminin': 638, 'danc': 423, 'bay': 139, 'waxi': 1905, 'diffid': 483, 'eldest': 549, 'resist': 1410, 'storag': 1653, 'spilt': 1618, 'thinner': 1763, 'cancel': 243, 'alobg': 49, 'tryit': 1825, 'gigant': 729, 'possibl': 1290, 'mention': 1053, 'smear': 1558, 'sud': 1687, 'scrumptiou': 1481, 'authent': 106, 'confus': 358, 'caught': 261, 'sudden': 1688, 'uncook': 1840, 'chip': 289, 'circl': 304, 'circular': 305, 'motion': 1103, 'favorit': 627, 'sourc': 1602, 'gran': 762, 'canaria': 242, 'pm': 1276, 'cycl': 416, 'okay': 1174, 'equal': 568, 'narrow': 1117, 'slim': 1548, 'pourer': 1296, 'dribbl': 521, 'washload': 1898, 'mango': 1021, 'oh': 1170, 'forehead': 677, 'cheek': 280, 'scrub': 1479, 'xd': 1958, 'comparison': 340, 'kit': 926, 'ensur': 563, 'told': 1790, 'economi': 540, 'huggabl': 857, 'preserv': 1306, 'tingl': 1780, 'phone': 1249, 'nivea': 1144, 'german': 726, 'angri': 62, 'refund': 1384, 'card': 252, 'receipt': 1371, 'pocket': 1277, 'properti': 1327, 'fluff': 666, 'magic': 1011, 'speedi': 1610, 'chocci': 291, 'secret': 1487, 'deposit': 461, 'bite': 167, 'adventur': 26, 'joy': 916, 'bash': 130, 'hang': 792, 'sheet': 1515, 'radiat': 1352, 'reccomend': 1370, 'misl': 1072, 'pay': 1226, 'truli': 1824, 'walk': 1892, 'pervas': 1243, 'fruiti': 706, 'toddler': 1787, 'curli': 411, 'highlight': 827, 'shape': 1509, 'soapi': 1575, 'toll': 1792, 'moment': 1087, 'rare': 1355, 'ethic': 573, 'player': 1266, 'mile': 1061, 'hr': 854, 'sedentari': 1488, 'tendenc': 1746, 'pull': 1333, 'discreet': 494, 'protector': 1329, 'swatch': 1716, 'conceal': 348, 'faint': 611, 'slightest': 1546, 'niggl': 1140, 'remark': 1398, 'specifi': 1609, 'advis': 29, 'conclus': 352, 'floweri': 664, 'lure': 1003, 'entic': 564, 'squint': 1629, 'drawback': 515, 'suppli': 1706, 'carton': 257, 'brainer': 202, 'pop': 1285, 'press': 1307, 'goo': 752, 'shadow': 1504, 'appropri': 85, 'eyelin': 600, 'error': 569, 'spars': 1607, 'bud': 224, 'aaaaamaz': 1, 'tattoooo': 1736, 'unus': 1856, 'adult': 24, 'belov': 151, 'pet': 1244, 'toilet': 1789, 'domesto': 504, 'aaaaaaaaamaz': 0, 'rsi': 1440, 'girli': 731, 'seal': 1483, 'sport': 1621, 'mad': 1010, 'suddenli': 1689, 'surfac': 1711, 'bo': 181, 'beater': 142, 'homemad': 838, 'travel': 1810, 'pic': 1252, 'deni': 456, 'sainsburi': 1451, 'cheddar': 279, 'scrummi': 1480, 'smellllllll': 1561, 'cystic': 417, 'shelf': 1516, 'sauna': 1464, 'outstand': 1192, 'turkey': 1829, 'shake': 1505, 'graviti': 765, 'bovril': 199, 'film': 645, 'teeth': 1742, 'cent': 264, 'consider': 361, 'dinner': 486, 'parti': 1215, 'everybodi': 577, 'moan': 1080, 'excess': 585, 'date': 426, 'emigr': 554, 'curl': 410, 'decidedli': 434, 'raspberri': 1357, 'newsweek': 1136, 'juic': 917, 'haha': 785, 'substitut': 1683, 'hi': 823, 'uk': 1834, 'anywher': 74, 'petrolatum': 1246, 'damp': 422, 'tesco': 1750, 'microwav': 1059, 'popular': 1286, 'hidden': 824, 'die': 478, 'em': 553, 'softner': 1581, 'persist': 1239, 'capful': 246, 'common': 336, 'prime': 1313, 'hellman': 817, 'surf': 1710, 'tropic': 1821, 'mud': 1107, 'spag': 1604, 'bol': 185, 'attent': 103, 'lingeri': 975, 'silk': 1528, 'fiber': 640, 'slipperi': 1551, 'exempt': 587, 'alth': 56, 'insread': 893, 'toxic': 1805, 'dud': 528, 'plainli': 1263, 'bold': 186, 'grudg': 777, 'dirti': 488, 'groceri': 772, 'budget': 225, 'cake': 239, 'exot': 589, 'veget': 1872, 'ariel': 88, 'fairi': 613, 'global': 740, 'giant': 727, 'expert': 593, 'dodgi': 501, 'imit': 870, 'sub': 1678, 'guarante': 779, 'rubberi': 1442, 'gossam': 756, 'coat': 323, 'brightli': 209, 'compart': 341, 'funki': 711, 'purpl': 1339, 'grey': 771, 'swirl': 1722, 'gu': 778, 'grade': 759, 'mysteri': 1113, 'sphinx': 1615, 'giza': 733, 'bermuda': 155, 'triangl': 1817, 'voynich': 1888, 'manuscript': 1025, 'eater': 537, 'reliev': 1396, 'final': 647, 'handwash': 791, 'underwear': 1843, 'trend': 1812, 'straightaway': 1657, 'street': 1664, 'hellmann': 818, 'opinion': 1179, 'ador': 23, 'verri': 1878, 'artif': 95, 'simpli': 1532, 'exact': 582, 'costco': 383, 'curiou': 409, 'baffl': 120, 'lash': 938, 'eyebrow': 599, 'boost': 191, 'sooo': 1595, 'starter': 1638, 'newborn': 1134, 'solero': 1584, 'morrison': 1095, 'salad': 1452, 'bake': 122, 'bean': 140}\n"
     ]
    }
   ],
   "source": [
    "TFIDF_vectorizer  = TfidfVectorizer(stop_words='english')\n",
    "\n",
    "TFIDF_vectorizer.fit(X_train)\n",
    "print('\\nVocabulary: \\n', TFIDF_vectorizer.vocabulary_)\n",
    "\n",
    "train_tf = TFIDF_vectorizer.fit_transform(X_train)\n",
    "test_tf = TFIDF_vectorizer.transform(X_test)"
   ]
  },
  {
   "cell_type": "markdown",
   "metadata": {},
   "source": [
    "### Multinomial Naive Bayes model"
   ]
  },
  {
   "cell_type": "code",
   "execution_count": 126,
   "metadata": {},
   "outputs": [],
   "source": [
    "#IMPLEMENTING AND RUNNING MNB MODEL - TFIDF\n",
    "mnb2 = MultinomialNB()\n",
    "mnb2.fit(train_tf, y_train)\n",
    "prediction = mnb2.predict(test_tf)"
   ]
  },
  {
   "cell_type": "code",
   "execution_count": 127,
   "metadata": {},
   "outputs": [],
   "source": [
    "#EVALUATION\n",
    "mnb_a2 = accuracy_score(y_test, prediction)*100\n",
    "mnb_p2 = precision_score(y_test, prediction)* 100\n",
    "mnb_r2 = recall_score(y_test, prediction)*100\n",
    "mnb_f12 = f1_score(y_test, prediction)*100"
   ]
  },
  {
   "cell_type": "code",
   "execution_count": 128,
   "metadata": {},
   "outputs": [
    {
     "data": {
      "text/plain": [
       "<sklearn.metrics._plot.confusion_matrix.ConfusionMatrixDisplay at 0x29f0d002250>"
      ]
     },
     "execution_count": 128,
     "metadata": {},
     "output_type": "execute_result"
    },
    {
     "data": {
      "image/png": "[encoded data removed]",
      "text/plain": [
       "<Figure size 640x480 with 2 Axes>"
      ]
     },
     "metadata": {},
     "output_type": "display_data"
    }
   ],
   "source": [
    "#CONFUSION MATRIX\n",
    "cm =  confusion_matrix(y_test, prediction, labels=mnb2.classes_)\n",
    "display = ConfusionMatrixDisplay(confusion_matrix=cm,\n",
    "                              display_labels=mnb2.classes_) \n",
    "display.plot() "
   ]
  },
  {
   "cell_type": "markdown",
   "metadata": {},
   "source": [
    "### Support Vector Machine model"
   ]
  },
  {
   "cell_type": "code",
   "execution_count": 129,
   "metadata": {},
   "outputs": [],
   "source": [
    "#IMPLEMENTING AND RUNNING SVM MODEL - TFIDF \n",
    "svm2 = SVC(kernel='linear')\n",
    "svm2.fit(train_tf, y_train)\n",
    "prediction = svm2.predict(test_tf)"
   ]
  },
  {
   "cell_type": "code",
   "execution_count": 130,
   "metadata": {},
   "outputs": [],
   "source": [
    "#EVALUATION\n",
    "svm_a2 = accuracy_score(y_test, prediction)*100\n",
    "svm_p2 = precision_score(y_test, prediction)* 100\n",
    "svm_r2 = recall_score(y_test, prediction)*100\n",
    "svm_f12 = f1_score(y_test, prediction)*100"
   ]
  },
  {
   "cell_type": "code",
   "execution_count": 131,
   "metadata": {},
   "outputs": [
    {
     "data": {
      "text/plain": [
       "<sklearn.metrics._plot.confusion_matrix.ConfusionMatrixDisplay at 0x29f0d197810>"
      ]
     },
     "execution_count": 131,
     "metadata": {},
     "output_type": "execute_result"
    },
    {
     "data": {
      "image/png": "[encoded data removed]",
      "text/plain": [
       "<Figure size 640x480 with 2 Axes>"
      ]
     },
     "metadata": {},
     "output_type": "display_data"
    }
   ],
   "source": [
    "#CONFUSION MATRIX\n",
    "cm =  confusion_matrix(y_test, prediction, labels=svm2.classes_)\n",
    "display = ConfusionMatrixDisplay(confusion_matrix=cm,\n",
    "                              display_labels=svm2.classes_) \n",
    "display.plot() "
   ]
  },
  {
   "cell_type": "markdown",
   "metadata": {},
   "source": [
    "### Logistic Regression model"
   ]
  },
  {
   "cell_type": "code",
   "execution_count": 132,
   "metadata": {},
   "outputs": [],
   "source": [
    "#IMPLEMENTATION AND RUNNING LR MODEL - TFIDF \n",
    "lr2 = LogisticRegression()\n",
    "lr2.fit(train_tf, y_train)\n",
    "prediction = lr2.predict(test_tf)"
   ]
  },
  {
   "cell_type": "code",
   "execution_count": 133,
   "metadata": {},
   "outputs": [],
   "source": [
    "#EVALUATION\n",
    "lr_a2 = accuracy_score(y_test, prediction)*100\n",
    "lr_p2 = precision_score(y_test, prediction)* 100\n",
    "lr_r2 = recall_score(y_test, prediction)*100\n",
    "lr_f12 = f1_score(y_test, prediction)*100"
   ]
  },
  {
   "cell_type": "code",
   "execution_count": 134,
   "metadata": {},
   "outputs": [
    {
     "data": {
      "text/plain": [
       "<sklearn.metrics._plot.confusion_matrix.ConfusionMatrixDisplay at 0x29f0d35f5d0>"
      ]
     },
     "execution_count": 134,
     "metadata": {},
     "output_type": "execute_result"
    },
    {
     "data": {
      "image/png": "[encoded data removed]",
      "text/plain": [
       "<Figure size 640x480 with 2 Axes>"
      ]
     },
     "metadata": {},
     "output_type": "display_data"
    }
   ],
   "source": [
    "#CONFUSION MATRIX\n",
    "cm =  confusion_matrix(y_test, prediction, labels=lr2.classes_)\n",
    "display = ConfusionMatrixDisplay(confusion_matrix=cm,\n",
    "                              display_labels=lr2.classes_) \n",
    "display.plot() "
   ]
  },
  {
   "cell_type": "markdown",
   "metadata": {},
   "source": [
    "### COMPARING ACCURACY"
   ]
  },
  {
   "cell_type": "code",
   "execution_count": 135,
   "metadata": {},
   "outputs": [
    {
     "data": {
      "text/html": [
       "<div>\n",
       "<style scoped>\n",
       "    .dataframe tbody tr th:only-of-type {\n",
       "        vertical-align: middle;\n",
       "    }\n",
       "\n",
       "    .dataframe tbody tr th {\n",
       "        vertical-align: top;\n",
       "    }\n",
       "\n",
       "    .dataframe thead th {\n",
       "        text-align: right;\n",
       "    }\n",
       "</style>\n",
       "<table border=\"1\" class=\"dataframe\">\n",
       "  <thead>\n",
       "    <tr style=\"text-align: right;\">\n",
       "      <th></th>\n",
       "      <th>MNB</th>\n",
       "      <th>SVM</th>\n",
       "      <th>LR</th>\n",
       "    </tr>\n",
       "  </thead>\n",
       "  <tbody>\n",
       "    <tr>\n",
       "      <th>Count Vectorizer</th>\n",
       "      <td>79</td>\n",
       "      <td>84</td>\n",
       "      <td>85</td>\n",
       "    </tr>\n",
       "    <tr>\n",
       "      <th>Tfidf Vectorizer</th>\n",
       "      <td>81</td>\n",
       "      <td>84</td>\n",
       "      <td>83</td>\n",
       "    </tr>\n",
       "  </tbody>\n",
       "</table>\n",
       "</div>"
      ],
      "text/plain": [
       "                  MNB  SVM  LR\n",
       "Count Vectorizer   79   84  85\n",
       "Tfidf Vectorizer   81   84  83"
      ]
     },
     "execution_count": 135,
     "metadata": {},
     "output_type": "execute_result"
    }
   ],
   "source": [
    "model_accuracy={'MNB': [round(mnb_a1), round(mnb_a2)],\n",
    "                'SVM': [round(svm_a1), round(svm_a2)],\n",
    "                'LR': [round(lr_a1), round(lr_a2)]\n",
    "               }\n",
    "ma = pd.DataFrame(model_accuracy, columns = ['MNB','SVM','LR'], index=['Count Vectorizer','Tfidf Vectorizer'])\n",
    "ma"
   ]
  },
  {
   "cell_type": "markdown",
   "metadata": {},
   "source": [
    "### COMPARING PRECISION"
   ]
  },
  {
   "cell_type": "code",
   "execution_count": 136,
   "metadata": {},
   "outputs": [
    {
     "data": {
      "text/html": [
       "<div>\n",
       "<style scoped>\n",
       "    .dataframe tbody tr th:only-of-type {\n",
       "        vertical-align: middle;\n",
       "    }\n",
       "\n",
       "    .dataframe tbody tr th {\n",
       "        vertical-align: top;\n",
       "    }\n",
       "\n",
       "    .dataframe thead th {\n",
       "        text-align: right;\n",
       "    }\n",
       "</style>\n",
       "<table border=\"1\" class=\"dataframe\">\n",
       "  <thead>\n",
       "    <tr style=\"text-align: right;\">\n",
       "      <th></th>\n",
       "      <th>MNB</th>\n",
       "      <th>SVM</th>\n",
       "      <th>LR</th>\n",
       "    </tr>\n",
       "  </thead>\n",
       "  <tbody>\n",
       "    <tr>\n",
       "      <th>Count Vectorizer</th>\n",
       "      <td>80</td>\n",
       "      <td>79</td>\n",
       "      <td>80</td>\n",
       "    </tr>\n",
       "    <tr>\n",
       "      <th>Tfidf Vectorizer</th>\n",
       "      <td>84</td>\n",
       "      <td>82</td>\n",
       "      <td>82</td>\n",
       "    </tr>\n",
       "  </tbody>\n",
       "</table>\n",
       "</div>"
      ],
      "text/plain": [
       "                  MNB  SVM  LR\n",
       "Count Vectorizer   80   79  80\n",
       "Tfidf Vectorizer   84   82  82"
      ]
     },
     "execution_count": 136,
     "metadata": {},
     "output_type": "execute_result"
    }
   ],
   "source": [
    "model_precision={'MNB': [round(mnb_p1), round(mnb_p2)],\n",
    "                'SVM': [round(svm_p1), round(svm_p2)],\n",
    "                'LR': [round(lr_p1), round(lr_p2)]\n",
    "               }\n",
    "mp = pd.DataFrame(model_precision, columns = ['MNB','SVM','LR'], index=['Count Vectorizer','Tfidf Vectorizer'])\n",
    "mp"
   ]
  },
  {
   "cell_type": "markdown",
   "metadata": {},
   "source": [
    "### COMPARING RECALL"
   ]
  },
  {
   "cell_type": "code",
   "execution_count": 137,
   "metadata": {},
   "outputs": [
    {
     "data": {
      "text/html": [
       "<div>\n",
       "<style scoped>\n",
       "    .dataframe tbody tr th:only-of-type {\n",
       "        vertical-align: middle;\n",
       "    }\n",
       "\n",
       "    .dataframe tbody tr th {\n",
       "        vertical-align: top;\n",
       "    }\n",
       "\n",
       "    .dataframe thead th {\n",
       "        text-align: right;\n",
       "    }\n",
       "</style>\n",
       "<table border=\"1\" class=\"dataframe\">\n",
       "  <thead>\n",
       "    <tr style=\"text-align: right;\">\n",
       "      <th></th>\n",
       "      <th>MNB</th>\n",
       "      <th>SVM</th>\n",
       "      <th>LR</th>\n",
       "    </tr>\n",
       "  </thead>\n",
       "  <tbody>\n",
       "    <tr>\n",
       "      <th>Count Vectorizer</th>\n",
       "      <td>76</td>\n",
       "      <td>91</td>\n",
       "      <td>90</td>\n",
       "    </tr>\n",
       "    <tr>\n",
       "      <th>Tfidf Vectorizer</th>\n",
       "      <td>73</td>\n",
       "      <td>86</td>\n",
       "      <td>83</td>\n",
       "    </tr>\n",
       "  </tbody>\n",
       "</table>\n",
       "</div>"
      ],
      "text/plain": [
       "                  MNB  SVM  LR\n",
       "Count Vectorizer   76   91  90\n",
       "Tfidf Vectorizer   73   86  83"
      ]
     },
     "execution_count": 137,
     "metadata": {},
     "output_type": "execute_result"
    }
   ],
   "source": [
    "model_recall={'MNB': [round(mnb_r1), round(mnb_r2)],\n",
    "                'SVM': [round(svm_r1), round(svm_r2)],\n",
    "                'LR': [round(lr_r1), round(lr_r2)]\n",
    "               }\n",
    "mr = pd.DataFrame(model_recall, columns = ['MNB','SVM','LR'], index=['Count Vectorizer','Tfidf Vectorizer'])\n",
    "mr"
   ]
  },
  {
   "cell_type": "markdown",
   "metadata": {},
   "source": [
    "### COMPARING F1 SCORE"
   ]
  },
  {
   "cell_type": "code",
   "execution_count": 138,
   "metadata": {},
   "outputs": [
    {
     "data": {
      "text/html": [
       "<div>\n",
       "<style scoped>\n",
       "    .dataframe tbody tr th:only-of-type {\n",
       "        vertical-align: middle;\n",
       "    }\n",
       "\n",
       "    .dataframe tbody tr th {\n",
       "        vertical-align: top;\n",
       "    }\n",
       "\n",
       "    .dataframe thead th {\n",
       "        text-align: right;\n",
       "    }\n",
       "</style>\n",
       "<table border=\"1\" class=\"dataframe\">\n",
       "  <thead>\n",
       "    <tr style=\"text-align: right;\">\n",
       "      <th></th>\n",
       "      <th>MNB</th>\n",
       "      <th>SVM</th>\n",
       "      <th>LR</th>\n",
       "    </tr>\n",
       "  </thead>\n",
       "  <tbody>\n",
       "    <tr>\n",
       "      <th>Count Vectorizer</th>\n",
       "      <td>78</td>\n",
       "      <td>85</td>\n",
       "      <td>85</td>\n",
       "    </tr>\n",
       "    <tr>\n",
       "      <th>Tfidf Vectorizer</th>\n",
       "      <td>78</td>\n",
       "      <td>84</td>\n",
       "      <td>82</td>\n",
       "    </tr>\n",
       "  </tbody>\n",
       "</table>\n",
       "</div>"
      ],
      "text/plain": [
       "                  MNB  SVM  LR\n",
       "Count Vectorizer   78   85  85\n",
       "Tfidf Vectorizer   78   84  82"
      ]
     },
     "execution_count": 138,
     "metadata": {},
     "output_type": "execute_result"
    }
   ],
   "source": [
    "model_f1={'MNB': [round(mnb_f11), round(mnb_f12)],\n",
    "                'SVM': [round(svm_f11), round(svm_f12)],\n",
    "                'LR': [round(lr_f11), round(lr_f12)]\n",
    "               }\n",
    "mf1 = pd.DataFrame(model_f1, columns = ['MNB','SVM','LR'], index=['Count Vectorizer','Tfidf Vectorizer'])\n",
    "mf1"
   ]
  },
  {
   "cell_type": "code",
   "execution_count": 139,
   "metadata": {},
   "outputs": [],
   "source": [
    "#SAVING THE BEST MODEL WITH ITS RESPECTIVE VECTORIZER\n",
    "pickle.dump(lr1, open('data and pickle files/new_model.pkl', 'wb'))\n",
    "pickle.dump(count_vectorizer, open('data and pickle files/new_vectorizer.pkl', 'wb'))"
   ]
  }
 ],
 "metadata": {
  "kernelspec": {
   "display_name": "Python 3",
   "language": "python",
   "name": "python3"
  },
  "language_info": {
   "codemirror_mode": {
    "name": "ipython",
    "version": 3
   },
   "file_extension": ".py",
   "mimetype": "text/x-python",
   "name": "python",
   "nbconvert_exporter": "python",
   "pygments_lexer": "ipython3",
   "version": "3.11.9"
  }
 },
 "nbformat": 4,
 "nbformat_minor": 4
}
